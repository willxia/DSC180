{
 "cells": [
  {
   "cell_type": "markdown",
   "metadata": {
    "cell_id": "3ad1f9a99d60458a8f2002dae539e6b4",
    "deepnote_cell_type": "text-cell-h1",
    "formattedRanges": []
   },
   "source": [
    "# Categorizing Memo Data"
   ]
  },
  {
   "cell_type": "markdown",
   "metadata": {
    "cell_id": "eaeef966aa72497cb6dba6c96f9e336c",
    "deepnote_cell_type": "text-cell-h2",
    "formattedRanges": []
   },
   "source": [
    "## Imports and Packages"
   ]
  },
  {
   "cell_type": "code",
   "execution_count": 1,
   "metadata": {
    "cell_id": "72f6caa48064422daabc21cde3d9a749",
    "deepnote_cell_type": "code",
    "deepnote_to_be_reexecuted": false,
    "execution_millis": 8,
    "execution_start": 1699512875745,
    "source_hash": null
   },
   "outputs": [
    {
     "name": "stderr",
     "output_type": "stream",
     "text": [
      "2024-02-08 21:41:56.641800: I tensorflow/core/platform/cpu_feature_guard.cc:182] This TensorFlow binary is optimized to use available CPU instructions in performance-critical operations.\n",
      "To enable the following instructions: AVX2 FMA, in other operations, rebuild TensorFlow with the appropriate compiler flags.\n"
     ]
    }
   ],
   "source": [
    "import numpy as np\n",
    "import pandas as pd\n",
    "import torch\n",
    "from torch.utils.data import DataLoader, TensorDataset\n",
    "from transformers import BertTokenizer, BertForSequenceClassification, TrainingArguments, Trainer\n",
    "from sklearn.model_selection import train_test_split\n",
    "import matplotlib.pyplot as plt\n",
    "import seaborn as sns\n",
    "from sklearn.linear_model import LogisticRegression\n",
    "from sklearn.metrics import roc_auc_score\n",
    "\n",
    "import re\n",
    "import nltk\n",
    "from nltk.corpus import stopwords\n",
    "import string\n",
    "import os\n",
    "import nltk"
   ]
  },
  {
   "cell_type": "code",
   "execution_count": 3,
   "metadata": {
    "cell_id": "6591a040743f420fbf7acca68f977b74",
    "deepnote_cell_type": "code",
    "deepnote_to_be_reexecuted": true,
    "execution_millis": 7,
    "execution_start": 1699494282025,
    "source_hash": null
   },
   "outputs": [
    {
     "name": "stdout",
     "output_type": "stream",
     "text": [
      "11.8 cuda:0\n"
     ]
    }
   ],
   "source": [
    "device = torch.device(\"cuda:0\" if torch.cuda.is_available() else \"cpu\")\n",
    "print(torch.version.cuda, device)"
   ]
  },
  {
   "cell_type": "markdown",
   "metadata": {
    "cell_id": "43f1f2fb64484b27a50a555346c9436d",
    "deepnote_cell_type": "text-cell-h2",
    "formattedRanges": []
   },
   "source": [
    "## Preprocessing"
   ]
  },
  {
   "cell_type": "code",
   "execution_count": 5,
   "metadata": {},
   "outputs": [],
   "source": [
    "inflows = pd.read_parquet('data/q2_inflows_final.pqt')\n",
    "outflows = pd.concat([ \n",
    "    pd.read_parquet('data/q2_outflows_1sthalf_final.pqt'),\n",
    "    pd.read_parquet('data/q2_outflows_2ndhalf_final.pqt')\n",
    "])\n"
   ]
  },
  {
   "cell_type": "code",
   "execution_count": 6,
   "metadata": {},
   "outputs": [],
   "source": [
    "account = pd.read_parquet('data/q2_acctDF_final.pqt')\n",
    "nota = pd.read_parquet('data/q2_consDF_final.pqt')"
   ]
  },
  {
   "cell_type": "code",
   "execution_count": 7,
   "metadata": {},
   "outputs": [
    {
     "name": "stdout",
     "output_type": "stream",
     "text": [
      "outflows\n"
     ]
    },
    {
     "data": {
      "text/html": [
       "<div>\n",
       "<style scoped>\n",
       "    .dataframe tbody tr th:only-of-type {\n",
       "        vertical-align: middle;\n",
       "    }\n",
       "\n",
       "    .dataframe tbody tr th {\n",
       "        vertical-align: top;\n",
       "    }\n",
       "\n",
       "    .dataframe thead th {\n",
       "        text-align: right;\n",
       "    }\n",
       "</style>\n",
       "<table border=\"1\" class=\"dataframe\">\n",
       "  <thead>\n",
       "    <tr style=\"text-align: right;\">\n",
       "      <th></th>\n",
       "      <th>prism_consumer_id</th>\n",
       "      <th>prism_account_id</th>\n",
       "      <th>memo_clean</th>\n",
       "      <th>amount</th>\n",
       "      <th>posted_date</th>\n",
       "      <th>category_description</th>\n",
       "    </tr>\n",
       "  </thead>\n",
       "  <tbody>\n",
       "    <tr>\n",
       "      <th>62</th>\n",
       "      <td>0</td>\n",
       "      <td>acc_0</td>\n",
       "      <td>Online Transfer to CHK ...XXXX transaction#: X...</td>\n",
       "      <td>280.00</td>\n",
       "      <td>2023-01-06</td>\n",
       "      <td>SELF_TRANSFER</td>\n",
       "    </tr>\n",
       "    <tr>\n",
       "      <th>63</th>\n",
       "      <td>0</td>\n",
       "      <td>acc_0</td>\n",
       "      <td>PAYPAL INST XFER RAINBOW WEB ID: PAYPALSI77</td>\n",
       "      <td>47.83</td>\n",
       "      <td>2022-07-21</td>\n",
       "      <td>EXTERNAL_TRANSFER</td>\n",
       "    </tr>\n",
       "    <tr>\n",
       "      <th>64</th>\n",
       "      <td>0</td>\n",
       "      <td>acc_0</td>\n",
       "      <td>Online Transfer to CHK ...XXXX transaction#: X...</td>\n",
       "      <td>280.00</td>\n",
       "      <td>2022-12-12</td>\n",
       "      <td>SELF_TRANSFER</td>\n",
       "    </tr>\n",
       "    <tr>\n",
       "      <th>65</th>\n",
       "      <td>0</td>\n",
       "      <td>acc_0</td>\n",
       "      <td>Online Transfer to CHK ...XXXX transaction#: X...</td>\n",
       "      <td>300.00</td>\n",
       "      <td>2022-12-09</td>\n",
       "      <td>SELF_TRANSFER</td>\n",
       "    </tr>\n",
       "    <tr>\n",
       "      <th>66</th>\n",
       "      <td>0</td>\n",
       "      <td>acc_0</td>\n",
       "      <td>Online Transfer to CHK ...XXXX transaction#: X...</td>\n",
       "      <td>500.00</td>\n",
       "      <td>2023-02-17</td>\n",
       "      <td>SELF_TRANSFER</td>\n",
       "    </tr>\n",
       "  </tbody>\n",
       "</table>\n",
       "</div>"
      ],
      "text/plain": [
       "    prism_consumer_id prism_account_id  \\\n",
       "62                  0            acc_0   \n",
       "63                  0            acc_0   \n",
       "64                  0            acc_0   \n",
       "65                  0            acc_0   \n",
       "66                  0            acc_0   \n",
       "\n",
       "                                           memo_clean  amount posted_date  \\\n",
       "62  Online Transfer to CHK ...XXXX transaction#: X...  280.00  2023-01-06   \n",
       "63        PAYPAL INST XFER RAINBOW WEB ID: PAYPALSI77   47.83  2022-07-21   \n",
       "64  Online Transfer to CHK ...XXXX transaction#: X...  280.00  2022-12-12   \n",
       "65  Online Transfer to CHK ...XXXX transaction#: X...  300.00  2022-12-09   \n",
       "66  Online Transfer to CHK ...XXXX transaction#: X...  500.00  2023-02-17   \n",
       "\n",
       "   category_description  \n",
       "62        SELF_TRANSFER  \n",
       "63    EXTERNAL_TRANSFER  \n",
       "64        SELF_TRANSFER  \n",
       "65        SELF_TRANSFER  \n",
       "66        SELF_TRANSFER  "
      ]
     },
     "execution_count": 7,
     "metadata": {},
     "output_type": "execute_result"
    }
   ],
   "source": [
    "print(\"outflows\")\n",
    "outflows.head() "
   ]
  },
  {
   "cell_type": "code",
   "execution_count": 8,
   "metadata": {},
   "outputs": [
    {
     "name": "stdout",
     "output_type": "stream",
     "text": [
      "account information\n"
     ]
    },
    {
     "data": {
      "text/html": [
       "<div>\n",
       "<style scoped>\n",
       "    .dataframe tbody tr th:only-of-type {\n",
       "        vertical-align: middle;\n",
       "    }\n",
       "\n",
       "    .dataframe tbody tr th {\n",
       "        vertical-align: top;\n",
       "    }\n",
       "\n",
       "    .dataframe thead th {\n",
       "        text-align: right;\n",
       "    }\n",
       "</style>\n",
       "<table border=\"1\" class=\"dataframe\">\n",
       "  <thead>\n",
       "    <tr style=\"text-align: right;\">\n",
       "      <th></th>\n",
       "      <th>prism_consumer_id</th>\n",
       "      <th>prism_account_id</th>\n",
       "      <th>account_type</th>\n",
       "      <th>balance</th>\n",
       "      <th>balance_date</th>\n",
       "    </tr>\n",
       "  </thead>\n",
       "  <tbody>\n",
       "    <tr>\n",
       "      <th>0</th>\n",
       "      <td>0</td>\n",
       "      <td>acc_0</td>\n",
       "      <td>SAVINGS</td>\n",
       "      <td>6182.60</td>\n",
       "      <td>2023-04-13</td>\n",
       "    </tr>\n",
       "    <tr>\n",
       "      <th>1</th>\n",
       "      <td>0</td>\n",
       "      <td>acc_1</td>\n",
       "      <td>CHECKING</td>\n",
       "      <td>9907.23</td>\n",
       "      <td>2023-04-13</td>\n",
       "    </tr>\n",
       "    <tr>\n",
       "      <th>2</th>\n",
       "      <td>2</td>\n",
       "      <td>acc_12</td>\n",
       "      <td>SAVINGS</td>\n",
       "      <td>17426.83</td>\n",
       "      <td>2022-02-15</td>\n",
       "    </tr>\n",
       "    <tr>\n",
       "      <th>3</th>\n",
       "      <td>2</td>\n",
       "      <td>acc_11</td>\n",
       "      <td>CHECKING</td>\n",
       "      <td>8079.43</td>\n",
       "      <td>2022-02-15</td>\n",
       "    </tr>\n",
       "    <tr>\n",
       "      <th>4</th>\n",
       "      <td>4</td>\n",
       "      <td>acc_16</td>\n",
       "      <td>SAVINGS</td>\n",
       "      <td>0.00</td>\n",
       "      <td>2021-08-13</td>\n",
       "    </tr>\n",
       "    <tr>\n",
       "      <th>...</th>\n",
       "      <td>...</td>\n",
       "      <td>...</td>\n",
       "      <td>...</td>\n",
       "      <td>...</td>\n",
       "      <td>...</td>\n",
       "    </tr>\n",
       "    <tr>\n",
       "      <th>4691</th>\n",
       "      <td>5941</td>\n",
       "      <td>acc_9478</td>\n",
       "      <td>CHECKING</td>\n",
       "      <td>2058.81</td>\n",
       "      <td>2023-01-06</td>\n",
       "    </tr>\n",
       "    <tr>\n",
       "      <th>4692</th>\n",
       "      <td>5943</td>\n",
       "      <td>acc_9480</td>\n",
       "      <td>CHECKING</td>\n",
       "      <td>2431.44</td>\n",
       "      <td>2023-02-02</td>\n",
       "    </tr>\n",
       "    <tr>\n",
       "      <th>4693</th>\n",
       "      <td>5944</td>\n",
       "      <td>acc_9481</td>\n",
       "      <td>CHECKING</td>\n",
       "      <td>45.74</td>\n",
       "      <td>2023-02-01</td>\n",
       "    </tr>\n",
       "    <tr>\n",
       "      <th>4694</th>\n",
       "      <td>5945</td>\n",
       "      <td>acc_9482</td>\n",
       "      <td>CHECKING</td>\n",
       "      <td>59.88</td>\n",
       "      <td>2023-02-01</td>\n",
       "    </tr>\n",
       "    <tr>\n",
       "      <th>4695</th>\n",
       "      <td>5949</td>\n",
       "      <td>acc_9486</td>\n",
       "      <td>CHECKING</td>\n",
       "      <td>1112.01</td>\n",
       "      <td>2023-02-04</td>\n",
       "    </tr>\n",
       "  </tbody>\n",
       "</table>\n",
       "<p>4696 rows × 5 columns</p>\n",
       "</div>"
      ],
      "text/plain": [
       "      prism_consumer_id prism_account_id account_type   balance balance_date\n",
       "0                     0            acc_0      SAVINGS   6182.60   2023-04-13\n",
       "1                     0            acc_1     CHECKING   9907.23   2023-04-13\n",
       "2                     2           acc_12      SAVINGS  17426.83   2022-02-15\n",
       "3                     2           acc_11     CHECKING   8079.43   2022-02-15\n",
       "4                     4           acc_16      SAVINGS      0.00   2021-08-13\n",
       "...                 ...              ...          ...       ...          ...\n",
       "4691               5941         acc_9478     CHECKING   2058.81   2023-01-06\n",
       "4692               5943         acc_9480     CHECKING   2431.44   2023-02-02\n",
       "4693               5944         acc_9481     CHECKING     45.74   2023-02-01\n",
       "4694               5945         acc_9482     CHECKING     59.88   2023-02-01\n",
       "4695               5949         acc_9486     CHECKING   1112.01   2023-02-04\n",
       "\n",
       "[4696 rows x 5 columns]"
      ]
     },
     "execution_count": 8,
     "metadata": {},
     "output_type": "execute_result"
    }
   ],
   "source": [
    "print(\"account information\")\n",
    "account "
   ]
  },
  {
   "cell_type": "code",
   "execution_count": 9,
   "metadata": {},
   "outputs": [
    {
     "name": "stdout",
     "output_type": "stream",
     "text": [
      "account type\n"
     ]
    },
    {
     "data": {
      "text/plain": [
       "account_type\n",
       "CHECKING           3688\n",
       "SAVINGS             771\n",
       "CREDIT CARD         221\n",
       "MONEY MARKET         13\n",
       "PREPAID               1\n",
       "CD                    1\n",
       "CASH MANAGEMENT       1\n",
       "Name: count, dtype: int64"
      ]
     },
     "execution_count": 9,
     "metadata": {},
     "output_type": "execute_result"
    }
   ],
   "source": [
    "print('account type')\n",
    "account['account_type'].value_counts()"
   ]
  },
  {
   "cell_type": "code",
   "execution_count": 13,
   "metadata": {},
   "outputs": [
    {
     "data": {
      "text/plain": [
       "array(['SELF_TRANSFER', 'INVESTMENT_INCOME', 'DEPOSIT', 'REFUND',\n",
       "       'PAYCHECK_PLACEHOLDER', 'EXTERNAL_TRANSFER', 'MISCELLANEOUS',\n",
       "       'TAX', 'PAYCHECK', 'SMALL_DOLLAR_ADVANCE', 'LOAN',\n",
       "       'OTHER_BENEFITS', 'INSURANCE', 'UNEMPLOYMENT_BENEFITS'],\n",
       "      dtype=object)"
      ]
     },
     "execution_count": 13,
     "metadata": {},
     "output_type": "execute_result"
    }
   ],
   "source": [
    "inflows['category_description'].unique()"
   ]
  },
  {
   "cell_type": "code",
   "execution_count": 14,
   "metadata": {
    "scrolled": true
   },
   "outputs": [
    {
     "data": {
      "text/plain": [
       "array(['SELF_TRANSFER', 'EXTERNAL_TRANSFER', 'ATM_CASH', 'ACCOUNT_FEES',\n",
       "       'GROCERIES', 'GENERAL_MERCHANDISE', 'LOAN', 'GIFTS_DONATIONS',\n",
       "       'CREDIT_CARD_PAYMENT', 'FOOD_AND_BEVERAGES', 'AUTOMOTIVE',\n",
       "       'INSURANCE', 'ENTERTAINMENT', 'ESSENTIAL_SERVICES',\n",
       "       'HEALTHCARE_MEDICAL', 'UNCATEGORIZED', 'TRAVEL',\n",
       "       'HOME_IMPROVEMENT', 'PETS', 'OVERDRAFT', 'TAX', 'BNPL', 'RENT',\n",
       "       'EDUCATION', 'MORTGAGE', 'CHILD_DEPENDENTS', 'PAYCHECK',\n",
       "       'BILLS_UTILITIES'], dtype=object)"
      ]
     },
     "execution_count": 14,
     "metadata": {},
     "output_type": "execute_result"
    }
   ],
   "source": [
    "outflows['category_description'].unique() "
   ]
  },
  {
   "cell_type": "code",
   "execution_count": 12,
   "metadata": {},
   "outputs": [
    {
     "data": {
      "text/html": [
       "<div>\n",
       "<style scoped>\n",
       "    .dataframe tbody tr th:only-of-type {\n",
       "        vertical-align: middle;\n",
       "    }\n",
       "\n",
       "    .dataframe tbody tr th {\n",
       "        vertical-align: top;\n",
       "    }\n",
       "\n",
       "    .dataframe thead th {\n",
       "        text-align: right;\n",
       "    }\n",
       "</style>\n",
       "<table border=\"1\" class=\"dataframe\">\n",
       "  <thead>\n",
       "    <tr style=\"text-align: right;\">\n",
       "      <th></th>\n",
       "      <th>prism_consumer_id</th>\n",
       "      <th>prism_account_id</th>\n",
       "      <th>memo_clean</th>\n",
       "      <th>amount</th>\n",
       "      <th>posted_date</th>\n",
       "      <th>category_description</th>\n",
       "    </tr>\n",
       "  </thead>\n",
       "  <tbody>\n",
       "    <tr>\n",
       "      <th>16959</th>\n",
       "      <td>26</td>\n",
       "      <td>acc_87</td>\n",
       "      <td>Online payment from CHK XXXX</td>\n",
       "      <td>282.05</td>\n",
       "      <td>2021-01-25</td>\n",
       "      <td>MISCELLANEOUS</td>\n",
       "    </tr>\n",
       "    <tr>\n",
       "      <th>16960</th>\n",
       "      <td>26</td>\n",
       "      <td>acc_87</td>\n",
       "      <td>Online payment from CHK XXXX</td>\n",
       "      <td>128.74</td>\n",
       "      <td>2021-03-02</td>\n",
       "      <td>MISCELLANEOUS</td>\n",
       "    </tr>\n",
       "    <tr>\n",
       "      <th>16956</th>\n",
       "      <td>26</td>\n",
       "      <td>acc_87</td>\n",
       "      <td>Online payment from CHK XXXX</td>\n",
       "      <td>166.80</td>\n",
       "      <td>2021-04-06</td>\n",
       "      <td>MISCELLANEOUS</td>\n",
       "    </tr>\n",
       "    <tr>\n",
       "      <th>16961</th>\n",
       "      <td>26</td>\n",
       "      <td>acc_87</td>\n",
       "      <td>Online payment from CHK XXXX</td>\n",
       "      <td>166.80</td>\n",
       "      <td>2021-05-19</td>\n",
       "      <td>MISCELLANEOUS</td>\n",
       "    </tr>\n",
       "    <tr>\n",
       "      <th>16955</th>\n",
       "      <td>26</td>\n",
       "      <td>acc_87</td>\n",
       "      <td>Online payment from CHK XXXX</td>\n",
       "      <td>286.16</td>\n",
       "      <td>2021-06-29</td>\n",
       "      <td>MISCELLANEOUS</td>\n",
       "    </tr>\n",
       "    <tr>\n",
       "      <th>16962</th>\n",
       "      <td>26</td>\n",
       "      <td>acc_87</td>\n",
       "      <td>Online payment from CHK XXXX</td>\n",
       "      <td>152.50</td>\n",
       "      <td>2021-08-03</td>\n",
       "      <td>MISCELLANEOUS</td>\n",
       "    </tr>\n",
       "    <tr>\n",
       "      <th>16957</th>\n",
       "      <td>26</td>\n",
       "      <td>acc_87</td>\n",
       "      <td>Online payment from CHK XXXX</td>\n",
       "      <td>303.99</td>\n",
       "      <td>2021-09-28</td>\n",
       "      <td>MISCELLANEOUS</td>\n",
       "    </tr>\n",
       "    <tr>\n",
       "      <th>16958</th>\n",
       "      <td>26</td>\n",
       "      <td>acc_87</td>\n",
       "      <td>Online payment from CHK XXXX</td>\n",
       "      <td>927.14</td>\n",
       "      <td>2021-11-24</td>\n",
       "      <td>MISCELLANEOUS</td>\n",
       "    </tr>\n",
       "  </tbody>\n",
       "</table>\n",
       "</div>"
      ],
      "text/plain": [
       "       prism_consumer_id prism_account_id                    memo_clean  \\\n",
       "16959                 26           acc_87  Online payment from CHK XXXX   \n",
       "16960                 26           acc_87  Online payment from CHK XXXX   \n",
       "16956                 26           acc_87  Online payment from CHK XXXX   \n",
       "16961                 26           acc_87  Online payment from CHK XXXX   \n",
       "16955                 26           acc_87  Online payment from CHK XXXX   \n",
       "16962                 26           acc_87  Online payment from CHK XXXX   \n",
       "16957                 26           acc_87  Online payment from CHK XXXX   \n",
       "16958                 26           acc_87  Online payment from CHK XXXX   \n",
       "\n",
       "       amount posted_date category_description  \n",
       "16959  282.05  2021-01-25        MISCELLANEOUS  \n",
       "16960  128.74  2021-03-02        MISCELLANEOUS  \n",
       "16956  166.80  2021-04-06        MISCELLANEOUS  \n",
       "16961  166.80  2021-05-19        MISCELLANEOUS  \n",
       "16955  286.16  2021-06-29        MISCELLANEOUS  \n",
       "16962  152.50  2021-08-03        MISCELLANEOUS  \n",
       "16957  303.99  2021-09-28        MISCELLANEOUS  \n",
       "16958  927.14  2021-11-24        MISCELLANEOUS  "
      ]
     },
     "execution_count": 12,
     "metadata": {},
     "output_type": "execute_result"
    }
   ],
   "source": [
    "inflows[inflows['prism_account_id']=='acc_87'].sort_values(by='posted_date')"
   ]
  },
  {
   "cell_type": "code",
   "execution_count": 13,
   "metadata": {},
   "outputs": [
    {
     "data": {
      "text/html": [
       "<div>\n",
       "<style scoped>\n",
       "    .dataframe tbody tr th:only-of-type {\n",
       "        vertical-align: middle;\n",
       "    }\n",
       "\n",
       "    .dataframe tbody tr th {\n",
       "        vertical-align: top;\n",
       "    }\n",
       "\n",
       "    .dataframe thead th {\n",
       "        text-align: right;\n",
       "    }\n",
       "</style>\n",
       "<table border=\"1\" class=\"dataframe\">\n",
       "  <thead>\n",
       "    <tr style=\"text-align: right;\">\n",
       "      <th></th>\n",
       "      <th>prism_consumer_id</th>\n",
       "      <th>prism_account_id</th>\n",
       "      <th>account_type</th>\n",
       "      <th>balance</th>\n",
       "      <th>balance_date</th>\n",
       "    </tr>\n",
       "  </thead>\n",
       "  <tbody>\n",
       "    <tr>\n",
       "      <th>7</th>\n",
       "      <td>7</td>\n",
       "      <td>acc_24</td>\n",
       "      <td>CREDIT CARD</td>\n",
       "      <td>7071.18</td>\n",
       "      <td>2021-08-08</td>\n",
       "    </tr>\n",
       "    <tr>\n",
       "      <th>42</th>\n",
       "      <td>26</td>\n",
       "      <td>acc_87</td>\n",
       "      <td>CREDIT CARD</td>\n",
       "      <td>0.00</td>\n",
       "      <td>2021-12-17</td>\n",
       "    </tr>\n",
       "    <tr>\n",
       "      <th>43</th>\n",
       "      <td>26</td>\n",
       "      <td>acc_86</td>\n",
       "      <td>CREDIT CARD</td>\n",
       "      <td>0.00</td>\n",
       "      <td>2021-12-17</td>\n",
       "    </tr>\n",
       "    <tr>\n",
       "      <th>44</th>\n",
       "      <td>26</td>\n",
       "      <td>acc_85</td>\n",
       "      <td>CREDIT CARD</td>\n",
       "      <td>1230.53</td>\n",
       "      <td>2021-12-17</td>\n",
       "    </tr>\n",
       "    <tr>\n",
       "      <th>51</th>\n",
       "      <td>29</td>\n",
       "      <td>acc_94</td>\n",
       "      <td>CREDIT CARD</td>\n",
       "      <td>7345.67</td>\n",
       "      <td>2021-11-08</td>\n",
       "    </tr>\n",
       "    <tr>\n",
       "      <th>...</th>\n",
       "      <td>...</td>\n",
       "      <td>...</td>\n",
       "      <td>...</td>\n",
       "      <td>...</td>\n",
       "      <td>...</td>\n",
       "    </tr>\n",
       "    <tr>\n",
       "      <th>2674</th>\n",
       "      <td>1959</td>\n",
       "      <td>acc_5431</td>\n",
       "      <td>CREDIT CARD</td>\n",
       "      <td>11815.57</td>\n",
       "      <td>2021-09-01</td>\n",
       "    </tr>\n",
       "    <tr>\n",
       "      <th>2679</th>\n",
       "      <td>1961</td>\n",
       "      <td>acc_5435</td>\n",
       "      <td>CREDIT CARD</td>\n",
       "      <td>13000.00</td>\n",
       "      <td>2022-02-21</td>\n",
       "    </tr>\n",
       "    <tr>\n",
       "      <th>2712</th>\n",
       "      <td>1993</td>\n",
       "      <td>acc_5524</td>\n",
       "      <td>CREDIT CARD</td>\n",
       "      <td>0.00</td>\n",
       "      <td>2023-04-13</td>\n",
       "    </tr>\n",
       "    <tr>\n",
       "      <th>2714</th>\n",
       "      <td>1993</td>\n",
       "      <td>acc_5523</td>\n",
       "      <td>CREDIT CARD</td>\n",
       "      <td>732.01</td>\n",
       "      <td>2023-04-13</td>\n",
       "    </tr>\n",
       "    <tr>\n",
       "      <th>2715</th>\n",
       "      <td>1993</td>\n",
       "      <td>acc_5522</td>\n",
       "      <td>CREDIT CARD</td>\n",
       "      <td>835.26</td>\n",
       "      <td>2023-04-13</td>\n",
       "    </tr>\n",
       "  </tbody>\n",
       "</table>\n",
       "<p>221 rows × 5 columns</p>\n",
       "</div>"
      ],
      "text/plain": [
       "      prism_consumer_id prism_account_id account_type   balance balance_date\n",
       "7                     7           acc_24  CREDIT CARD   7071.18   2021-08-08\n",
       "42                   26           acc_87  CREDIT CARD      0.00   2021-12-17\n",
       "43                   26           acc_86  CREDIT CARD      0.00   2021-12-17\n",
       "44                   26           acc_85  CREDIT CARD   1230.53   2021-12-17\n",
       "51                   29           acc_94  CREDIT CARD   7345.67   2021-11-08\n",
       "...                 ...              ...          ...       ...          ...\n",
       "2674               1959         acc_5431  CREDIT CARD  11815.57   2021-09-01\n",
       "2679               1961         acc_5435  CREDIT CARD  13000.00   2022-02-21\n",
       "2712               1993         acc_5524  CREDIT CARD      0.00   2023-04-13\n",
       "2714               1993         acc_5523  CREDIT CARD    732.01   2023-04-13\n",
       "2715               1993         acc_5522  CREDIT CARD    835.26   2023-04-13\n",
       "\n",
       "[221 rows x 5 columns]"
      ]
     },
     "execution_count": 13,
     "metadata": {},
     "output_type": "execute_result"
    }
   ],
   "source": [
    "account[account['account_type']==\"CREDIT CARD\"]"
   ]
  },
  {
   "cell_type": "code",
   "execution_count": 14,
   "metadata": {},
   "outputs": [
    {
     "data": {
      "text/plain": [
       "FPF_TARGET\n",
       "0.0    2417\n",
       "1.0     561\n",
       "Name: count, dtype: int64"
      ]
     },
     "execution_count": 14,
     "metadata": {},
     "output_type": "execute_result"
    }
   ],
   "source": [
    "nota['FPF_TARGET'].value_counts()"
   ]
  },
  {
   "cell_type": "markdown",
   "metadata": {},
   "source": [
    "## Merge the inflow and outflow as total"
   ]
  },
  {
   "cell_type": "code",
   "execution_count": 15,
   "metadata": {},
   "outputs": [],
   "source": [
    "out = outflows.copy()\n",
    "out['amount'] = outflows['amount'].apply(lambda x: -x)\n",
    "total = inflows._append(out, ignore_index=True)\n",
    "\n"
   ]
  },
  {
   "cell_type": "markdown",
   "metadata": {},
   "source": [
    "# FPF_Target Prediction"
   ]
  },
  {
   "cell_type": "code",
   "execution_count": 16,
   "metadata": {},
   "outputs": [],
   "source": [
    "#feature 1 \n",
    "#total consumption for each individual\n",
    "consumption = outflows.groupby('prism_consumer_id')['amount'].sum().sort_index()"
   ]
  },
  {
   "cell_type": "code",
   "execution_count": 17,
   "metadata": {},
   "outputs": [],
   "source": [
    "#feature 3 \n",
    "#total consumption on entertainment\n",
    "enter = outflows[outflows['category_description'] == 'ENTERTAINMENT']\n",
    "enter_feature = enter.groupby('prism_consumer_id')['amount'].sum().sort_values().sort_index()\n",
    "f3 = enter_feature.to_frame().merge(nota['FPF_TARGET'].to_frame(), left_index=True, right_index=True, how = 'right')\n",
    "f3 = f3.fillna(0)"
   ]
  },
  {
   "cell_type": "code",
   "execution_count": 100,
   "metadata": {},
   "outputs": [],
   "source": [
    "#feature 5\n",
    "#consumption / income \n",
    "#entertainment / income \n",
    "f5 = f3['amount'] / consumption.reset_index()['amount']\n",
    "f5 = f5.fillna(0)"
   ]
  },
  {
   "cell_type": "code",
   "execution_count": 41,
   "metadata": {},
   "outputs": [],
   "source": [
    "def cate(flows, category):\n",
    "    enter = flows[flows['category_description'] == category]\n",
    "    enter_feature = enter.groupby('prism_consumer_id')['amount'].sum().sort_values().sort_index()\n",
    "    f3 = enter_feature.to_frame().merge(nota['FPF_TARGET'].to_frame(), left_index=True, right_index=True, how = 'right')\n",
    "    f3 = f3.fillna(0)\n",
    "    return f3['amount']"
   ]
  },
  {
   "cell_type": "code",
   "execution_count": 44,
   "metadata": {},
   "outputs": [],
   "source": [
    "\n",
    "t = cate(outflows,'RENT' ) / consumption.reset_index()['amount']\n",
    "t = t.fillna(0)\n"
   ]
  },
  {
   "cell_type": "code",
   "execution_count": 112,
   "metadata": {},
   "outputs": [
    {
     "name": "stdout",
     "output_type": "stream",
     "text": [
      "[0. 0. 0. ... 0. 0. 0.]\n",
      "0.0\n",
      "Precision: 0.0\n",
      "Recall: 0.0\n",
      "accuracy_score: 0.8112416107382551\n",
      "roc_auc_score:0.5\n"
     ]
    },
    {
     "name": "stderr",
     "output_type": "stream",
     "text": [
      "/opt/conda/lib/python3.9/site-packages/sklearn/metrics/_classification.py:1248: UndefinedMetricWarning: Precision is ill-defined and being set to 0.0 due to no predicted samples. Use `zero_division` parameter to control this behavior.\n",
      "  _warn_prf(average, modifier, msg_start, len(result))\n"
     ]
    },
    {
     "data": {
      "text/plain": [
       "(0.0, 0.0)"
      ]
     },
     "execution_count": 112,
     "metadata": {},
     "output_type": "execute_result"
    }
   ],
   "source": [
    "modelTest(t.to_frame(), nota['FPF_TARGET'])"
   ]
  },
  {
   "cell_type": "code",
   "execution_count": 21,
   "metadata": {},
   "outputs": [],
   "source": [
    "total['month'] = total['posted_date'].apply(lambda x: x.month)\n"
   ]
  },
  {
   "cell_type": "code",
   "execution_count": 22,
   "metadata": {},
   "outputs": [],
   "source": [
    "total['year'] = total['posted_date'].apply(lambda x: x.year)"
   ]
  },
  {
   "cell_type": "code",
   "execution_count": 23,
   "metadata": {},
   "outputs": [
    {
     "data": {
      "text/plain": [
       "array([2022, 2023, 2021, 2020, 2018, 2019])"
      ]
     },
     "execution_count": 23,
     "metadata": {},
     "output_type": "execute_result"
    }
   ],
   "source": [
    "total['year'].unique()"
   ]
  },
  {
   "cell_type": "code",
   "execution_count": 24,
   "metadata": {},
   "outputs": [],
   "source": [
    "consumption_month = total.groupby(['prism_consumer_id','year', 'month'])['amount'].sum().to_frame()"
   ]
  },
  {
   "cell_type": "code",
   "execution_count": 62,
   "metadata": {},
   "outputs": [],
   "source": [
    "blank = consumption_month.copy()\n",
    "blank.loc[:, :] = 0\n",
    "blank = blank.unstack(level=['year', 'month']).fillna(0)"
   ]
  },
  {
   "cell_type": "code",
   "execution_count": 25,
   "metadata": {},
   "outputs": [],
   "source": [
    "temp = consumption_month.unstack(level=['year', 'month'])\n",
    "temp = temp.fillna(0)\n"
   ]
  },
  {
   "cell_type": "code",
   "execution_count": 58,
   "metadata": {},
   "outputs": [
    {
     "data": {
      "text/html": [
       "<div>\n",
       "<style scoped>\n",
       "    .dataframe tbody tr th:only-of-type {\n",
       "        vertical-align: middle;\n",
       "    }\n",
       "\n",
       "    .dataframe tbody tr th {\n",
       "        vertical-align: top;\n",
       "    }\n",
       "\n",
       "    .dataframe thead tr th {\n",
       "        text-align: left;\n",
       "    }\n",
       "\n",
       "    .dataframe thead tr:last-of-type th {\n",
       "        text-align: right;\n",
       "    }\n",
       "</style>\n",
       "<table border=\"1\" class=\"dataframe\">\n",
       "  <thead>\n",
       "    <tr>\n",
       "      <th></th>\n",
       "      <th colspan=\"21\" halign=\"left\">amount</th>\n",
       "    </tr>\n",
       "    <tr>\n",
       "      <th>year</th>\n",
       "      <th colspan=\"4\" halign=\"left\">2022</th>\n",
       "      <th>2021</th>\n",
       "      <th colspan=\"2\" halign=\"left\">2020</th>\n",
       "      <th>2021</th>\n",
       "      <th>2022</th>\n",
       "      <th>2021</th>\n",
       "      <th>...</th>\n",
       "      <th>2023</th>\n",
       "      <th colspan=\"7\" halign=\"left\">2020</th>\n",
       "      <th colspan=\"2\" halign=\"left\">2023</th>\n",
       "    </tr>\n",
       "    <tr>\n",
       "      <th>month</th>\n",
       "      <th>5</th>\n",
       "      <th>6</th>\n",
       "      <th>7</th>\n",
       "      <th>9</th>\n",
       "      <th>6</th>\n",
       "      <th>11</th>\n",
       "      <th>12</th>\n",
       "      <th>7</th>\n",
       "      <th>12</th>\n",
       "      <th>1</th>\n",
       "      <th>...</th>\n",
       "      <th>4</th>\n",
       "      <th>7</th>\n",
       "      <th>8</th>\n",
       "      <th>3</th>\n",
       "      <th>4</th>\n",
       "      <th>5</th>\n",
       "      <th>6</th>\n",
       "      <th>2</th>\n",
       "      <th>6</th>\n",
       "      <th>7</th>\n",
       "    </tr>\n",
       "    <tr>\n",
       "      <th>prism_consumer_id</th>\n",
       "      <th></th>\n",
       "      <th></th>\n",
       "      <th></th>\n",
       "      <th></th>\n",
       "      <th></th>\n",
       "      <th></th>\n",
       "      <th></th>\n",
       "      <th></th>\n",
       "      <th></th>\n",
       "      <th></th>\n",
       "      <th></th>\n",
       "      <th></th>\n",
       "      <th></th>\n",
       "      <th></th>\n",
       "      <th></th>\n",
       "      <th></th>\n",
       "      <th></th>\n",
       "      <th></th>\n",
       "      <th></th>\n",
       "      <th></th>\n",
       "      <th></th>\n",
       "    </tr>\n",
       "  </thead>\n",
       "  <tbody>\n",
       "    <tr>\n",
       "      <th>9</th>\n",
       "      <td>-2375.24</td>\n",
       "      <td>-2375.24</td>\n",
       "      <td>-2375.24</td>\n",
       "      <td>-4757.00</td>\n",
       "      <td>0.00</td>\n",
       "      <td>0.00</td>\n",
       "      <td>0.00</td>\n",
       "      <td>0.00</td>\n",
       "      <td>0.00</td>\n",
       "      <td>0.0</td>\n",
       "      <td>...</td>\n",
       "      <td>0.0</td>\n",
       "      <td>0.0</td>\n",
       "      <td>0.0</td>\n",
       "      <td>0.0</td>\n",
       "      <td>0.0</td>\n",
       "      <td>0.0</td>\n",
       "      <td>0.0</td>\n",
       "      <td>0.0</td>\n",
       "      <td>0.0</td>\n",
       "      <td>0.0</td>\n",
       "    </tr>\n",
       "    <tr>\n",
       "      <th>13</th>\n",
       "      <td>0.00</td>\n",
       "      <td>0.00</td>\n",
       "      <td>0.00</td>\n",
       "      <td>0.00</td>\n",
       "      <td>-30.26</td>\n",
       "      <td>0.00</td>\n",
       "      <td>0.00</td>\n",
       "      <td>0.00</td>\n",
       "      <td>0.00</td>\n",
       "      <td>0.0</td>\n",
       "      <td>...</td>\n",
       "      <td>0.0</td>\n",
       "      <td>0.0</td>\n",
       "      <td>0.0</td>\n",
       "      <td>0.0</td>\n",
       "      <td>0.0</td>\n",
       "      <td>0.0</td>\n",
       "      <td>0.0</td>\n",
       "      <td>0.0</td>\n",
       "      <td>0.0</td>\n",
       "      <td>0.0</td>\n",
       "    </tr>\n",
       "    <tr>\n",
       "      <th>16</th>\n",
       "      <td>0.00</td>\n",
       "      <td>0.00</td>\n",
       "      <td>0.00</td>\n",
       "      <td>0.00</td>\n",
       "      <td>0.00</td>\n",
       "      <td>-2686.26</td>\n",
       "      <td>-1647.56</td>\n",
       "      <td>-73.66</td>\n",
       "      <td>0.00</td>\n",
       "      <td>0.0</td>\n",
       "      <td>...</td>\n",
       "      <td>0.0</td>\n",
       "      <td>0.0</td>\n",
       "      <td>0.0</td>\n",
       "      <td>0.0</td>\n",
       "      <td>0.0</td>\n",
       "      <td>0.0</td>\n",
       "      <td>0.0</td>\n",
       "      <td>0.0</td>\n",
       "      <td>0.0</td>\n",
       "      <td>0.0</td>\n",
       "    </tr>\n",
       "    <tr>\n",
       "      <th>25</th>\n",
       "      <td>0.00</td>\n",
       "      <td>0.00</td>\n",
       "      <td>0.00</td>\n",
       "      <td>0.00</td>\n",
       "      <td>0.00</td>\n",
       "      <td>0.00</td>\n",
       "      <td>0.00</td>\n",
       "      <td>0.00</td>\n",
       "      <td>-548.00</td>\n",
       "      <td>0.0</td>\n",
       "      <td>...</td>\n",
       "      <td>0.0</td>\n",
       "      <td>0.0</td>\n",
       "      <td>0.0</td>\n",
       "      <td>0.0</td>\n",
       "      <td>0.0</td>\n",
       "      <td>0.0</td>\n",
       "      <td>0.0</td>\n",
       "      <td>0.0</td>\n",
       "      <td>0.0</td>\n",
       "      <td>0.0</td>\n",
       "    </tr>\n",
       "    <tr>\n",
       "      <th>26</th>\n",
       "      <td>0.00</td>\n",
       "      <td>0.00</td>\n",
       "      <td>0.00</td>\n",
       "      <td>0.00</td>\n",
       "      <td>-410.00</td>\n",
       "      <td>0.00</td>\n",
       "      <td>0.00</td>\n",
       "      <td>-410.00</td>\n",
       "      <td>0.00</td>\n",
       "      <td>-410.0</td>\n",
       "      <td>...</td>\n",
       "      <td>0.0</td>\n",
       "      <td>0.0</td>\n",
       "      <td>0.0</td>\n",
       "      <td>0.0</td>\n",
       "      <td>0.0</td>\n",
       "      <td>0.0</td>\n",
       "      <td>0.0</td>\n",
       "      <td>0.0</td>\n",
       "      <td>0.0</td>\n",
       "      <td>0.0</td>\n",
       "    </tr>\n",
       "    <tr>\n",
       "      <th>...</th>\n",
       "      <td>...</td>\n",
       "      <td>...</td>\n",
       "      <td>...</td>\n",
       "      <td>...</td>\n",
       "      <td>...</td>\n",
       "      <td>...</td>\n",
       "      <td>...</td>\n",
       "      <td>...</td>\n",
       "      <td>...</td>\n",
       "      <td>...</td>\n",
       "      <td>...</td>\n",
       "      <td>...</td>\n",
       "      <td>...</td>\n",
       "      <td>...</td>\n",
       "      <td>...</td>\n",
       "      <td>...</td>\n",
       "      <td>...</td>\n",
       "      <td>...</td>\n",
       "      <td>...</td>\n",
       "      <td>...</td>\n",
       "      <td>...</td>\n",
       "    </tr>\n",
       "    <tr>\n",
       "      <th>5861</th>\n",
       "      <td>-400.00</td>\n",
       "      <td>-800.00</td>\n",
       "      <td>-1415.00</td>\n",
       "      <td>0.00</td>\n",
       "      <td>-2945.00</td>\n",
       "      <td>0.00</td>\n",
       "      <td>0.00</td>\n",
       "      <td>-2130.00</td>\n",
       "      <td>0.00</td>\n",
       "      <td>0.0</td>\n",
       "      <td>...</td>\n",
       "      <td>0.0</td>\n",
       "      <td>0.0</td>\n",
       "      <td>0.0</td>\n",
       "      <td>0.0</td>\n",
       "      <td>0.0</td>\n",
       "      <td>0.0</td>\n",
       "      <td>0.0</td>\n",
       "      <td>0.0</td>\n",
       "      <td>0.0</td>\n",
       "      <td>0.0</td>\n",
       "    </tr>\n",
       "    <tr>\n",
       "      <th>5871</th>\n",
       "      <td>-1436.28</td>\n",
       "      <td>-1434.24</td>\n",
       "      <td>-1456.63</td>\n",
       "      <td>-1535.48</td>\n",
       "      <td>0.00</td>\n",
       "      <td>0.00</td>\n",
       "      <td>0.00</td>\n",
       "      <td>0.00</td>\n",
       "      <td>-1513.38</td>\n",
       "      <td>0.0</td>\n",
       "      <td>...</td>\n",
       "      <td>0.0</td>\n",
       "      <td>0.0</td>\n",
       "      <td>0.0</td>\n",
       "      <td>0.0</td>\n",
       "      <td>0.0</td>\n",
       "      <td>0.0</td>\n",
       "      <td>0.0</td>\n",
       "      <td>0.0</td>\n",
       "      <td>0.0</td>\n",
       "      <td>0.0</td>\n",
       "    </tr>\n",
       "    <tr>\n",
       "      <th>5892</th>\n",
       "      <td>0.00</td>\n",
       "      <td>-874.19</td>\n",
       "      <td>-875.00</td>\n",
       "      <td>-902.91</td>\n",
       "      <td>0.00</td>\n",
       "      <td>0.00</td>\n",
       "      <td>0.00</td>\n",
       "      <td>0.00</td>\n",
       "      <td>0.00</td>\n",
       "      <td>0.0</td>\n",
       "      <td>...</td>\n",
       "      <td>0.0</td>\n",
       "      <td>0.0</td>\n",
       "      <td>0.0</td>\n",
       "      <td>0.0</td>\n",
       "      <td>0.0</td>\n",
       "      <td>0.0</td>\n",
       "      <td>0.0</td>\n",
       "      <td>0.0</td>\n",
       "      <td>0.0</td>\n",
       "      <td>0.0</td>\n",
       "    </tr>\n",
       "    <tr>\n",
       "      <th>5926</th>\n",
       "      <td>0.00</td>\n",
       "      <td>0.00</td>\n",
       "      <td>0.00</td>\n",
       "      <td>-508.00</td>\n",
       "      <td>0.00</td>\n",
       "      <td>0.00</td>\n",
       "      <td>0.00</td>\n",
       "      <td>0.00</td>\n",
       "      <td>-596.09</td>\n",
       "      <td>0.0</td>\n",
       "      <td>...</td>\n",
       "      <td>0.0</td>\n",
       "      <td>0.0</td>\n",
       "      <td>0.0</td>\n",
       "      <td>0.0</td>\n",
       "      <td>0.0</td>\n",
       "      <td>0.0</td>\n",
       "      <td>0.0</td>\n",
       "      <td>0.0</td>\n",
       "      <td>0.0</td>\n",
       "      <td>0.0</td>\n",
       "    </tr>\n",
       "    <tr>\n",
       "      <th>5930</th>\n",
       "      <td>-1.95</td>\n",
       "      <td>-1.95</td>\n",
       "      <td>-1.95</td>\n",
       "      <td>-1.95</td>\n",
       "      <td>0.00</td>\n",
       "      <td>0.00</td>\n",
       "      <td>0.00</td>\n",
       "      <td>0.00</td>\n",
       "      <td>-2.95</td>\n",
       "      <td>0.0</td>\n",
       "      <td>...</td>\n",
       "      <td>0.0</td>\n",
       "      <td>0.0</td>\n",
       "      <td>0.0</td>\n",
       "      <td>0.0</td>\n",
       "      <td>0.0</td>\n",
       "      <td>0.0</td>\n",
       "      <td>0.0</td>\n",
       "      <td>0.0</td>\n",
       "      <td>0.0</td>\n",
       "      <td>0.0</td>\n",
       "    </tr>\n",
       "  </tbody>\n",
       "</table>\n",
       "<p>473 rows × 42 columns</p>\n",
       "</div>"
      ],
      "text/plain": [
       "                    amount                                               \\\n",
       "year                  2022                                2021     2020   \n",
       "month                   5        6        7        9        6        11   \n",
       "prism_consumer_id                                                         \n",
       "9                 -2375.24 -2375.24 -2375.24 -4757.00     0.00     0.00   \n",
       "13                    0.00     0.00     0.00     0.00   -30.26     0.00   \n",
       "16                    0.00     0.00     0.00     0.00     0.00 -2686.26   \n",
       "25                    0.00     0.00     0.00     0.00     0.00     0.00   \n",
       "26                    0.00     0.00     0.00     0.00  -410.00     0.00   \n",
       "...                    ...      ...      ...      ...      ...      ...   \n",
       "5861               -400.00  -800.00 -1415.00     0.00 -2945.00     0.00   \n",
       "5871              -1436.28 -1434.24 -1456.63 -1535.48     0.00     0.00   \n",
       "5892                  0.00  -874.19  -875.00  -902.91     0.00     0.00   \n",
       "5926                  0.00     0.00     0.00  -508.00     0.00     0.00   \n",
       "5930                 -1.95    -1.95    -1.95    -1.95     0.00     0.00   \n",
       "\n",
       "                                                     ...                      \\\n",
       "year                           2021     2022   2021  ... 2023 2020             \n",
       "month                   12       7        12     1   ...   4    7    8    3    \n",
       "prism_consumer_id                                    ...                       \n",
       "9                     0.00     0.00     0.00    0.0  ...  0.0  0.0  0.0  0.0   \n",
       "13                    0.00     0.00     0.00    0.0  ...  0.0  0.0  0.0  0.0   \n",
       "16                -1647.56   -73.66     0.00    0.0  ...  0.0  0.0  0.0  0.0   \n",
       "25                    0.00     0.00  -548.00    0.0  ...  0.0  0.0  0.0  0.0   \n",
       "26                    0.00  -410.00     0.00 -410.0  ...  0.0  0.0  0.0  0.0   \n",
       "...                    ...      ...      ...    ...  ...  ...  ...  ...  ...   \n",
       "5861                  0.00 -2130.00     0.00    0.0  ...  0.0  0.0  0.0  0.0   \n",
       "5871                  0.00     0.00 -1513.38    0.0  ...  0.0  0.0  0.0  0.0   \n",
       "5892                  0.00     0.00     0.00    0.0  ...  0.0  0.0  0.0  0.0   \n",
       "5926                  0.00     0.00  -596.09    0.0  ...  0.0  0.0  0.0  0.0   \n",
       "5930                  0.00     0.00    -2.95    0.0  ...  0.0  0.0  0.0  0.0   \n",
       "\n",
       "                                                 \n",
       "year                                  2023       \n",
       "month               4    5    6    2    6    7   \n",
       "prism_consumer_id                                \n",
       "9                  0.0  0.0  0.0  0.0  0.0  0.0  \n",
       "13                 0.0  0.0  0.0  0.0  0.0  0.0  \n",
       "16                 0.0  0.0  0.0  0.0  0.0  0.0  \n",
       "25                 0.0  0.0  0.0  0.0  0.0  0.0  \n",
       "26                 0.0  0.0  0.0  0.0  0.0  0.0  \n",
       "...                ...  ...  ...  ...  ...  ...  \n",
       "5861               0.0  0.0  0.0  0.0  0.0  0.0  \n",
       "5871               0.0  0.0  0.0  0.0  0.0  0.0  \n",
       "5892               0.0  0.0  0.0  0.0  0.0  0.0  \n",
       "5926               0.0  0.0  0.0  0.0  0.0  0.0  \n",
       "5930               0.0  0.0  0.0  0.0  0.0  0.0  \n",
       "\n",
       "[473 rows x 42 columns]"
      ]
     },
     "execution_count": 58,
     "metadata": {},
     "output_type": "execute_result"
    }
   ],
   "source": [
    "t = total[total['category_description'] == 'RENT'].groupby(['prism_consumer_id','year', 'month'])['amount'].sum().to_frame()\n",
    "t.unstack(level=['year', 'month']).fillna(0)"
   ]
  },
  {
   "cell_type": "code",
   "execution_count": 37,
   "metadata": {},
   "outputs": [],
   "source": [
    "from sklearn.metrics import confusion_matrix\n",
    "from sklearn.metrics import precision_score, recall_score\n",
    "from sklearn.metrics import accuracy_score\n",
    "\n",
    "def modelTest(X, y):\n",
    "    X_train, X_test, y_train, y_test = train_test_split(X, y, test_size=0.4, random_state=42, stratify=y)\n",
    "    clf = LogisticRegression(random_state=0,C=0.5).fit(X_train, y_train)\n",
    "    y_pred = clf.predict(X_test)\n",
    "    print(y_pred)\n",
    "    precision = precision_score(y_test, y_pred)\n",
    "    recall = recall_score(y_test, y_pred)\n",
    "    score = roc_auc_score(y_test, y_pred)\n",
    "    print(y_pred.mean())\n",
    "    print(f\"Precision: {precision}\")\n",
    "    print(f\"Recall: {recall}\")\n",
    "    print(f\"accuracy_score: {accuracy_score(y_test, y_pred)}\") \n",
    "    print(f\"roc_auc_score:{score}\")\n",
    "    return precision, recall\n",
    "    "
   ]
  },
  {
   "cell_type": "code",
   "execution_count": 139,
   "metadata": {},
   "outputs": [],
   "source": [
    "#calculate the monthly consumption on given cateogry \n",
    "def month_consump(flows, cate):\n",
    "    total['month'] = total['posted_date'].apply(lambda x: x.month)\n",
    "    total['year'] = total['posted_date'].apply(lambda x: x.year)\n",
    "    consumption_month = total.groupby(['prism_consumer_id','year', 'month'])['amount'].sum().to_frame()\n",
    "    blank = consumption_month.copy()\n",
    "    blank.loc[:, :] = 0\n",
    "    blank = blank.unstack(level=['year', 'month']).fillna(0)\n",
    "    cate_flows = flows[flows['category_description'] == cate]\n",
    "    cate_flows['month'] = cate_flows['posted_date'].apply(lambda x: x.month)\n",
    "    cate_flows['year'] = cate_flows['posted_date'].apply(lambda x: x.year)\n",
    "    cate_consump = cate_flows.groupby(['prism_consumer_id','year', 'month'])['amount'].sum().to_frame()\n",
    "    temp = cate_consump.unstack(level=['year', 'month'])\n",
    "    temp = temp.fillna(0)\n",
    "    return temp.combine_first(blank[temp.columns])\n",
    "   \n"
   ]
  },
  {
   "cell_type": "code",
   "execution_count": 69,
   "metadata": {},
   "outputs": [
    {
     "name": "stderr",
     "output_type": "stream",
     "text": [
      "/tmp/ipykernel_106/211621672.py:3: SettingWithCopyWarning: \n",
      "A value is trying to be set on a copy of a slice from a DataFrame.\n",
      "Try using .loc[row_indexer,col_indexer] = value instead\n",
      "\n",
      "See the caveats in the documentation: https://pandas.pydata.org/pandas-docs/stable/user_guide/indexing.html#returning-a-view-versus-a-copy\n",
      "  total['month'] = total['posted_date'].apply(lambda x: x.month)\n",
      "/tmp/ipykernel_106/211621672.py:4: SettingWithCopyWarning: \n",
      "A value is trying to be set on a copy of a slice from a DataFrame.\n",
      "Try using .loc[row_indexer,col_indexer] = value instead\n",
      "\n",
      "See the caveats in the documentation: https://pandas.pydata.org/pandas-docs/stable/user_guide/indexing.html#returning-a-view-versus-a-copy\n",
      "  total['year'] = total['posted_date'].apply(lambda x: x.year)\n"
     ]
    },
    {
     "data": {
      "text/html": [
       "<div>\n",
       "<style scoped>\n",
       "    .dataframe tbody tr th:only-of-type {\n",
       "        vertical-align: middle;\n",
       "    }\n",
       "\n",
       "    .dataframe tbody tr th {\n",
       "        vertical-align: top;\n",
       "    }\n",
       "\n",
       "    .dataframe thead tr th {\n",
       "        text-align: left;\n",
       "    }\n",
       "\n",
       "    .dataframe thead tr:last-of-type th {\n",
       "        text-align: right;\n",
       "    }\n",
       "</style>\n",
       "<table border=\"1\" class=\"dataframe\">\n",
       "  <thead>\n",
       "    <tr>\n",
       "      <th></th>\n",
       "      <th colspan=\"21\" halign=\"left\">amount</th>\n",
       "    </tr>\n",
       "    <tr>\n",
       "      <th>year</th>\n",
       "      <th colspan=\"4\" halign=\"left\">2022</th>\n",
       "      <th>2021</th>\n",
       "      <th colspan=\"2\" halign=\"left\">2020</th>\n",
       "      <th>2021</th>\n",
       "      <th>2022</th>\n",
       "      <th>2021</th>\n",
       "      <th>...</th>\n",
       "      <th>2023</th>\n",
       "      <th colspan=\"7\" halign=\"left\">2020</th>\n",
       "      <th colspan=\"2\" halign=\"left\">2023</th>\n",
       "    </tr>\n",
       "    <tr>\n",
       "      <th>month</th>\n",
       "      <th>5</th>\n",
       "      <th>6</th>\n",
       "      <th>7</th>\n",
       "      <th>9</th>\n",
       "      <th>6</th>\n",
       "      <th>11</th>\n",
       "      <th>12</th>\n",
       "      <th>7</th>\n",
       "      <th>12</th>\n",
       "      <th>1</th>\n",
       "      <th>...</th>\n",
       "      <th>4</th>\n",
       "      <th>7</th>\n",
       "      <th>8</th>\n",
       "      <th>3</th>\n",
       "      <th>4</th>\n",
       "      <th>5</th>\n",
       "      <th>6</th>\n",
       "      <th>2</th>\n",
       "      <th>6</th>\n",
       "      <th>7</th>\n",
       "    </tr>\n",
       "    <tr>\n",
       "      <th>prism_consumer_id</th>\n",
       "      <th></th>\n",
       "      <th></th>\n",
       "      <th></th>\n",
       "      <th></th>\n",
       "      <th></th>\n",
       "      <th></th>\n",
       "      <th></th>\n",
       "      <th></th>\n",
       "      <th></th>\n",
       "      <th></th>\n",
       "      <th></th>\n",
       "      <th></th>\n",
       "      <th></th>\n",
       "      <th></th>\n",
       "      <th></th>\n",
       "      <th></th>\n",
       "      <th></th>\n",
       "      <th></th>\n",
       "      <th></th>\n",
       "      <th></th>\n",
       "      <th></th>\n",
       "    </tr>\n",
       "  </thead>\n",
       "  <tbody>\n",
       "    <tr>\n",
       "      <th>9</th>\n",
       "      <td>2375.24</td>\n",
       "      <td>2375.24</td>\n",
       "      <td>2375.24</td>\n",
       "      <td>4757.00</td>\n",
       "      <td>0.00</td>\n",
       "      <td>0.00</td>\n",
       "      <td>0.00</td>\n",
       "      <td>0.00</td>\n",
       "      <td>0.00</td>\n",
       "      <td>0.0</td>\n",
       "      <td>...</td>\n",
       "      <td>0.0</td>\n",
       "      <td>0.0</td>\n",
       "      <td>0.0</td>\n",
       "      <td>0.0</td>\n",
       "      <td>0.0</td>\n",
       "      <td>0.0</td>\n",
       "      <td>0.0</td>\n",
       "      <td>0.0</td>\n",
       "      <td>0.0</td>\n",
       "      <td>0.0</td>\n",
       "    </tr>\n",
       "    <tr>\n",
       "      <th>13</th>\n",
       "      <td>0.00</td>\n",
       "      <td>0.00</td>\n",
       "      <td>0.00</td>\n",
       "      <td>0.00</td>\n",
       "      <td>30.26</td>\n",
       "      <td>0.00</td>\n",
       "      <td>0.00</td>\n",
       "      <td>0.00</td>\n",
       "      <td>0.00</td>\n",
       "      <td>0.0</td>\n",
       "      <td>...</td>\n",
       "      <td>0.0</td>\n",
       "      <td>0.0</td>\n",
       "      <td>0.0</td>\n",
       "      <td>0.0</td>\n",
       "      <td>0.0</td>\n",
       "      <td>0.0</td>\n",
       "      <td>0.0</td>\n",
       "      <td>0.0</td>\n",
       "      <td>0.0</td>\n",
       "      <td>0.0</td>\n",
       "    </tr>\n",
       "    <tr>\n",
       "      <th>16</th>\n",
       "      <td>0.00</td>\n",
       "      <td>0.00</td>\n",
       "      <td>0.00</td>\n",
       "      <td>0.00</td>\n",
       "      <td>0.00</td>\n",
       "      <td>2686.26</td>\n",
       "      <td>1647.56</td>\n",
       "      <td>73.66</td>\n",
       "      <td>0.00</td>\n",
       "      <td>0.0</td>\n",
       "      <td>...</td>\n",
       "      <td>0.0</td>\n",
       "      <td>0.0</td>\n",
       "      <td>0.0</td>\n",
       "      <td>0.0</td>\n",
       "      <td>0.0</td>\n",
       "      <td>0.0</td>\n",
       "      <td>0.0</td>\n",
       "      <td>0.0</td>\n",
       "      <td>0.0</td>\n",
       "      <td>0.0</td>\n",
       "    </tr>\n",
       "    <tr>\n",
       "      <th>25</th>\n",
       "      <td>0.00</td>\n",
       "      <td>0.00</td>\n",
       "      <td>0.00</td>\n",
       "      <td>0.00</td>\n",
       "      <td>0.00</td>\n",
       "      <td>0.00</td>\n",
       "      <td>0.00</td>\n",
       "      <td>0.00</td>\n",
       "      <td>548.00</td>\n",
       "      <td>0.0</td>\n",
       "      <td>...</td>\n",
       "      <td>0.0</td>\n",
       "      <td>0.0</td>\n",
       "      <td>0.0</td>\n",
       "      <td>0.0</td>\n",
       "      <td>0.0</td>\n",
       "      <td>0.0</td>\n",
       "      <td>0.0</td>\n",
       "      <td>0.0</td>\n",
       "      <td>0.0</td>\n",
       "      <td>0.0</td>\n",
       "    </tr>\n",
       "    <tr>\n",
       "      <th>26</th>\n",
       "      <td>0.00</td>\n",
       "      <td>0.00</td>\n",
       "      <td>0.00</td>\n",
       "      <td>0.00</td>\n",
       "      <td>410.00</td>\n",
       "      <td>0.00</td>\n",
       "      <td>0.00</td>\n",
       "      <td>410.00</td>\n",
       "      <td>0.00</td>\n",
       "      <td>410.0</td>\n",
       "      <td>...</td>\n",
       "      <td>0.0</td>\n",
       "      <td>0.0</td>\n",
       "      <td>0.0</td>\n",
       "      <td>0.0</td>\n",
       "      <td>0.0</td>\n",
       "      <td>0.0</td>\n",
       "      <td>0.0</td>\n",
       "      <td>0.0</td>\n",
       "      <td>0.0</td>\n",
       "      <td>0.0</td>\n",
       "    </tr>\n",
       "    <tr>\n",
       "      <th>...</th>\n",
       "      <td>...</td>\n",
       "      <td>...</td>\n",
       "      <td>...</td>\n",
       "      <td>...</td>\n",
       "      <td>...</td>\n",
       "      <td>...</td>\n",
       "      <td>...</td>\n",
       "      <td>...</td>\n",
       "      <td>...</td>\n",
       "      <td>...</td>\n",
       "      <td>...</td>\n",
       "      <td>...</td>\n",
       "      <td>...</td>\n",
       "      <td>...</td>\n",
       "      <td>...</td>\n",
       "      <td>...</td>\n",
       "      <td>...</td>\n",
       "      <td>...</td>\n",
       "      <td>...</td>\n",
       "      <td>...</td>\n",
       "      <td>...</td>\n",
       "    </tr>\n",
       "    <tr>\n",
       "      <th>5861</th>\n",
       "      <td>400.00</td>\n",
       "      <td>800.00</td>\n",
       "      <td>1415.00</td>\n",
       "      <td>0.00</td>\n",
       "      <td>2945.00</td>\n",
       "      <td>0.00</td>\n",
       "      <td>0.00</td>\n",
       "      <td>2130.00</td>\n",
       "      <td>0.00</td>\n",
       "      <td>0.0</td>\n",
       "      <td>...</td>\n",
       "      <td>0.0</td>\n",
       "      <td>0.0</td>\n",
       "      <td>0.0</td>\n",
       "      <td>0.0</td>\n",
       "      <td>0.0</td>\n",
       "      <td>0.0</td>\n",
       "      <td>0.0</td>\n",
       "      <td>0.0</td>\n",
       "      <td>0.0</td>\n",
       "      <td>0.0</td>\n",
       "    </tr>\n",
       "    <tr>\n",
       "      <th>5871</th>\n",
       "      <td>1436.28</td>\n",
       "      <td>1434.24</td>\n",
       "      <td>1456.63</td>\n",
       "      <td>1535.48</td>\n",
       "      <td>0.00</td>\n",
       "      <td>0.00</td>\n",
       "      <td>0.00</td>\n",
       "      <td>0.00</td>\n",
       "      <td>1513.38</td>\n",
       "      <td>0.0</td>\n",
       "      <td>...</td>\n",
       "      <td>0.0</td>\n",
       "      <td>0.0</td>\n",
       "      <td>0.0</td>\n",
       "      <td>0.0</td>\n",
       "      <td>0.0</td>\n",
       "      <td>0.0</td>\n",
       "      <td>0.0</td>\n",
       "      <td>0.0</td>\n",
       "      <td>0.0</td>\n",
       "      <td>0.0</td>\n",
       "    </tr>\n",
       "    <tr>\n",
       "      <th>5892</th>\n",
       "      <td>0.00</td>\n",
       "      <td>874.19</td>\n",
       "      <td>875.00</td>\n",
       "      <td>902.91</td>\n",
       "      <td>0.00</td>\n",
       "      <td>0.00</td>\n",
       "      <td>0.00</td>\n",
       "      <td>0.00</td>\n",
       "      <td>0.00</td>\n",
       "      <td>0.0</td>\n",
       "      <td>...</td>\n",
       "      <td>0.0</td>\n",
       "      <td>0.0</td>\n",
       "      <td>0.0</td>\n",
       "      <td>0.0</td>\n",
       "      <td>0.0</td>\n",
       "      <td>0.0</td>\n",
       "      <td>0.0</td>\n",
       "      <td>0.0</td>\n",
       "      <td>0.0</td>\n",
       "      <td>0.0</td>\n",
       "    </tr>\n",
       "    <tr>\n",
       "      <th>5926</th>\n",
       "      <td>0.00</td>\n",
       "      <td>0.00</td>\n",
       "      <td>0.00</td>\n",
       "      <td>508.00</td>\n",
       "      <td>0.00</td>\n",
       "      <td>0.00</td>\n",
       "      <td>0.00</td>\n",
       "      <td>0.00</td>\n",
       "      <td>596.09</td>\n",
       "      <td>0.0</td>\n",
       "      <td>...</td>\n",
       "      <td>0.0</td>\n",
       "      <td>0.0</td>\n",
       "      <td>0.0</td>\n",
       "      <td>0.0</td>\n",
       "      <td>0.0</td>\n",
       "      <td>0.0</td>\n",
       "      <td>0.0</td>\n",
       "      <td>0.0</td>\n",
       "      <td>0.0</td>\n",
       "      <td>0.0</td>\n",
       "    </tr>\n",
       "    <tr>\n",
       "      <th>5930</th>\n",
       "      <td>1.95</td>\n",
       "      <td>1.95</td>\n",
       "      <td>1.95</td>\n",
       "      <td>1.95</td>\n",
       "      <td>0.00</td>\n",
       "      <td>0.00</td>\n",
       "      <td>0.00</td>\n",
       "      <td>0.00</td>\n",
       "      <td>2.95</td>\n",
       "      <td>0.0</td>\n",
       "      <td>...</td>\n",
       "      <td>0.0</td>\n",
       "      <td>0.0</td>\n",
       "      <td>0.0</td>\n",
       "      <td>0.0</td>\n",
       "      <td>0.0</td>\n",
       "      <td>0.0</td>\n",
       "      <td>0.0</td>\n",
       "      <td>0.0</td>\n",
       "      <td>0.0</td>\n",
       "      <td>0.0</td>\n",
       "    </tr>\n",
       "  </tbody>\n",
       "</table>\n",
       "<p>473 rows × 42 columns</p>\n",
       "</div>"
      ],
      "text/plain": [
       "                    amount                                               \\\n",
       "year                  2022                                2021     2020   \n",
       "month                   5        6        7        9        6        11   \n",
       "prism_consumer_id                                                         \n",
       "9                  2375.24  2375.24  2375.24  4757.00     0.00     0.00   \n",
       "13                    0.00     0.00     0.00     0.00    30.26     0.00   \n",
       "16                    0.00     0.00     0.00     0.00     0.00  2686.26   \n",
       "25                    0.00     0.00     0.00     0.00     0.00     0.00   \n",
       "26                    0.00     0.00     0.00     0.00   410.00     0.00   \n",
       "...                    ...      ...      ...      ...      ...      ...   \n",
       "5861                400.00   800.00  1415.00     0.00  2945.00     0.00   \n",
       "5871               1436.28  1434.24  1456.63  1535.48     0.00     0.00   \n",
       "5892                  0.00   874.19   875.00   902.91     0.00     0.00   \n",
       "5926                  0.00     0.00     0.00   508.00     0.00     0.00   \n",
       "5930                  1.95     1.95     1.95     1.95     0.00     0.00   \n",
       "\n",
       "                                                     ...                      \\\n",
       "year                           2021     2022   2021  ... 2023 2020             \n",
       "month                   12       7        12     1   ...   4    7    8    3    \n",
       "prism_consumer_id                                    ...                       \n",
       "9                     0.00     0.00     0.00    0.0  ...  0.0  0.0  0.0  0.0   \n",
       "13                    0.00     0.00     0.00    0.0  ...  0.0  0.0  0.0  0.0   \n",
       "16                 1647.56    73.66     0.00    0.0  ...  0.0  0.0  0.0  0.0   \n",
       "25                    0.00     0.00   548.00    0.0  ...  0.0  0.0  0.0  0.0   \n",
       "26                    0.00   410.00     0.00  410.0  ...  0.0  0.0  0.0  0.0   \n",
       "...                    ...      ...      ...    ...  ...  ...  ...  ...  ...   \n",
       "5861                  0.00  2130.00     0.00    0.0  ...  0.0  0.0  0.0  0.0   \n",
       "5871                  0.00     0.00  1513.38    0.0  ...  0.0  0.0  0.0  0.0   \n",
       "5892                  0.00     0.00     0.00    0.0  ...  0.0  0.0  0.0  0.0   \n",
       "5926                  0.00     0.00   596.09    0.0  ...  0.0  0.0  0.0  0.0   \n",
       "5930                  0.00     0.00     2.95    0.0  ...  0.0  0.0  0.0  0.0   \n",
       "\n",
       "                                                 \n",
       "year                                  2023       \n",
       "month               4    5    6    2    6    7   \n",
       "prism_consumer_id                                \n",
       "9                  0.0  0.0  0.0  0.0  0.0  0.0  \n",
       "13                 0.0  0.0  0.0  0.0  0.0  0.0  \n",
       "16                 0.0  0.0  0.0  0.0  0.0  0.0  \n",
       "25                 0.0  0.0  0.0  0.0  0.0  0.0  \n",
       "26                 0.0  0.0  0.0  0.0  0.0  0.0  \n",
       "...                ...  ...  ...  ...  ...  ...  \n",
       "5861               0.0  0.0  0.0  0.0  0.0  0.0  \n",
       "5871               0.0  0.0  0.0  0.0  0.0  0.0  \n",
       "5892               0.0  0.0  0.0  0.0  0.0  0.0  \n",
       "5926               0.0  0.0  0.0  0.0  0.0  0.0  \n",
       "5930               0.0  0.0  0.0  0.0  0.0  0.0  \n",
       "\n",
       "[473 rows x 42 columns]"
      ]
     },
     "execution_count": 69,
     "metadata": {},
     "output_type": "execute_result"
    }
   ],
   "source": [
    "r = month_consump(outflows, 'RENT')\n",
    "#r.merge(blank, left_index=True, right_index=True, how = 'left')\n",
    "r"
   ]
  },
  {
   "cell_type": "code",
   "execution_count": 29,
   "metadata": {},
   "outputs": [],
   "source": [
    "# new features\n",
    "# mean difference per category ; 1 num for each feature \n",
    "# standard diviation for monthly spend ; 1 num for each feature \n",
    "# monthly consumption on each category over \n"
   ]
  },
  {
   "cell_type": "code",
   "execution_count": 149,
   "metadata": {},
   "outputs": [
    {
     "name": "stderr",
     "output_type": "stream",
     "text": [
      "/tmp/ipykernel_106/2254478954.py:9: SettingWithCopyWarning: \n",
      "A value is trying to be set on a copy of a slice from a DataFrame.\n",
      "Try using .loc[row_indexer,col_indexer] = value instead\n",
      "\n",
      "See the caveats in the documentation: https://pandas.pydata.org/pandas-docs/stable/user_guide/indexing.html#returning-a-view-versus-a-copy\n",
      "  cate_flows['month'] = cate_flows['posted_date'].apply(lambda x: x.month)\n",
      "/tmp/ipykernel_106/2254478954.py:10: SettingWithCopyWarning: \n",
      "A value is trying to be set on a copy of a slice from a DataFrame.\n",
      "Try using .loc[row_indexer,col_indexer] = value instead\n",
      "\n",
      "See the caveats in the documentation: https://pandas.pydata.org/pandas-docs/stable/user_guide/indexing.html#returning-a-view-versus-a-copy\n",
      "  cate_flows['year'] = cate_flows['posted_date'].apply(lambda x: x.year)\n"
     ]
    },
    {
     "name": "stdout",
     "output_type": "stream",
     "text": [
      "[0. 0. 0. ... 0. 0. 0.]\n",
      "0.04194630872483222\n",
      "Precision: 0.38\n",
      "Recall: 0.08444444444444445\n",
      "accuracy_score: 0.8011744966442953\n",
      "roc_auc_score:0.5261932666896473\n"
     ]
    },
    {
     "name": "stderr",
     "output_type": "stream",
     "text": [
      "/opt/conda/lib/python3.9/site-packages/sklearn/linear_model/_logistic.py:763: ConvergenceWarning: lbfgs failed to converge (status=1):\n",
      "STOP: TOTAL NO. of ITERATIONS REACHED LIMIT.\n",
      "\n",
      "Increase the number of iterations (max_iter) or scale the data as shown in:\n",
      "    https://scikit-learn.org/stable/modules/preprocessing.html\n",
      "Please also refer to the documentation for alternative solver options:\n",
      "    https://scikit-learn.org/stable/modules/linear_model.html#logistic-regression\n",
      "  n_iter_i = _check_optimize_result(\n"
     ]
    },
    {
     "data": {
      "text/plain": [
       "(0.38, 0.08444444444444445)"
      ]
     },
     "execution_count": 149,
     "metadata": {},
     "output_type": "execute_result"
    }
   ],
   "source": [
    "modelTest(month_consump(inflows, 'DEPOSIT'), nota['FPF_TARGET'])"
   ]
  },
  {
   "cell_type": "code",
   "execution_count": 52,
   "metadata": {},
   "outputs": [
    {
     "data": {
      "text/plain": [
       "prism_consumer_id\n",
       "0       15029.73\n",
       "2         292.27\n",
       "4        3330.82\n",
       "7        7231.32\n",
       "9        5841.63\n",
       "          ...   \n",
       "5941    -1517.55\n",
       "5943     2405.10\n",
       "5944      -48.23\n",
       "5945    -3114.74\n",
       "5949      253.76\n",
       "Name: amount, Length: 2978, dtype: float64"
      ]
     },
     "execution_count": 52,
     "metadata": {},
     "output_type": "execute_result"
    }
   ],
   "source": [
    "netIncome = total.groupby('prism_consumer_id')['amount'].sum().sort_values().sort_index()\n",
    "netIncome "
   ]
  },
  {
   "cell_type": "code",
   "execution_count": null,
   "metadata": {},
   "outputs": [],
   "source": []
  },
  {
   "cell_type": "code",
   "execution_count": 53,
   "metadata": {},
   "outputs": [],
   "source": [
    "trans_count = inflows.groupby('prism_consumer_id')['prism_account_id'].count()"
   ]
  },
  {
   "cell_type": "code",
   "execution_count": 55,
   "metadata": {},
   "outputs": [],
   "source": [
    "\n",
    "#account['amount'].apply(lambda x: if -x)\n",
    "account.loc[account['account_type'] == 'CREDIT CARD', 'balance'] *= -1 \n",
    "f2 = account.groupby('prism_consumer_id')['balance'].sum().sort_index()"
   ]
  },
  {
   "cell_type": "code",
   "execution_count": 56,
   "metadata": {},
   "outputs": [
    {
     "data": {
      "text/html": [
       "<div>\n",
       "<style scoped>\n",
       "    .dataframe tbody tr th:only-of-type {\n",
       "        vertical-align: middle;\n",
       "    }\n",
       "\n",
       "    .dataframe tbody tr th {\n",
       "        vertical-align: top;\n",
       "    }\n",
       "\n",
       "    .dataframe thead th {\n",
       "        text-align: right;\n",
       "    }\n",
       "</style>\n",
       "<table border=\"1\" class=\"dataframe\">\n",
       "  <thead>\n",
       "    <tr style=\"text-align: right;\">\n",
       "      <th></th>\n",
       "      <th>balance</th>\n",
       "    </tr>\n",
       "    <tr>\n",
       "      <th>prism_consumer_id</th>\n",
       "      <th></th>\n",
       "    </tr>\n",
       "  </thead>\n",
       "  <tbody>\n",
       "    <tr>\n",
       "      <th>0</th>\n",
       "      <td>16089.83</td>\n",
       "    </tr>\n",
       "    <tr>\n",
       "      <th>2</th>\n",
       "      <td>25506.26</td>\n",
       "    </tr>\n",
       "    <tr>\n",
       "      <th>4</th>\n",
       "      <td>5521.39</td>\n",
       "    </tr>\n",
       "    <tr>\n",
       "      <th>7</th>\n",
       "      <td>-5975.01</td>\n",
       "    </tr>\n",
       "    <tr>\n",
       "      <th>9</th>\n",
       "      <td>13348.76</td>\n",
       "    </tr>\n",
       "    <tr>\n",
       "      <th>...</th>\n",
       "      <td>...</td>\n",
       "    </tr>\n",
       "    <tr>\n",
       "      <th>5941</th>\n",
       "      <td>2058.81</td>\n",
       "    </tr>\n",
       "    <tr>\n",
       "      <th>5943</th>\n",
       "      <td>2431.44</td>\n",
       "    </tr>\n",
       "    <tr>\n",
       "      <th>5944</th>\n",
       "      <td>45.74</td>\n",
       "    </tr>\n",
       "    <tr>\n",
       "      <th>5945</th>\n",
       "      <td>59.88</td>\n",
       "    </tr>\n",
       "    <tr>\n",
       "      <th>5949</th>\n",
       "      <td>1112.01</td>\n",
       "    </tr>\n",
       "  </tbody>\n",
       "</table>\n",
       "<p>2978 rows × 1 columns</p>\n",
       "</div>"
      ],
      "text/plain": [
       "                    balance\n",
       "prism_consumer_id          \n",
       "0                  16089.83\n",
       "2                  25506.26\n",
       "4                   5521.39\n",
       "7                  -5975.01\n",
       "9                  13348.76\n",
       "...                     ...\n",
       "5941                2058.81\n",
       "5943                2431.44\n",
       "5944                  45.74\n",
       "5945                  59.88\n",
       "5949                1112.01\n",
       "\n",
       "[2978 rows x 1 columns]"
      ]
     },
     "execution_count": 56,
     "metadata": {},
     "output_type": "execute_result"
    }
   ],
   "source": [
    "f2.to_frame()"
   ]
  },
  {
   "cell_type": "code",
   "execution_count": 57,
   "metadata": {},
   "outputs": [
    {
     "data": {
      "text/plain": [
       "prism_consumer_id\n",
       "0       16089.83\n",
       "2       25506.26\n",
       "4        5521.39\n",
       "7       -5975.01\n",
       "9       13348.76\n",
       "          ...   \n",
       "5941     2058.81\n",
       "5943     2431.44\n",
       "5944       45.74\n",
       "5945       59.88\n",
       "5949     1112.01\n",
       "Name: balance, Length: 2978, dtype: float64"
      ]
     },
     "execution_count": 57,
     "metadata": {},
     "output_type": "execute_result"
    }
   ],
   "source": [
    "f2"
   ]
  },
  {
   "cell_type": "code",
   "execution_count": 58,
   "metadata": {},
   "outputs": [
    {
     "data": {
      "text/plain": [
       "prism_consumer_id\n",
       "0       0.076372\n",
       "2       0.090375\n",
       "4       0.060656\n",
       "7       0.043560\n",
       "9       0.072296\n",
       "          ...   \n",
       "5941    0.055507\n",
       "5943    0.056061\n",
       "5944    0.052514\n",
       "5945    0.052535\n",
       "5949    0.054099\n",
       "Name: balance, Length: 2978, dtype: float64"
      ]
     },
     "execution_count": 58,
     "metadata": {},
     "output_type": "execute_result"
    }
   ],
   "source": [
    "f2_ = (f2-f2.min())/(f2.max()-f2.min())\n",
    "f2_"
   ]
  },
  {
   "cell_type": "code",
   "execution_count": 69,
   "metadata": {},
   "outputs": [
    {
     "name": "stdout",
     "output_type": "stream",
     "text": [
      "[0. 0. 0. ... 0. 0. 0.]\n",
      "0.0\n",
      "Precision: 0.0\n",
      "Recall: 0.0\n",
      "accuracy_score: 0.8112416107382551\n",
      "roc_auc_score:0.5\n"
     ]
    },
    {
     "name": "stderr",
     "output_type": "stream",
     "text": [
      "/opt/conda/lib/python3.9/site-packages/sklearn/metrics/_classification.py:1248: UndefinedMetricWarning: Precision is ill-defined and being set to 0.0 due to no predicted samples. Use `zero_division` parameter to control this behavior.\n",
      "  _warn_prf(average, modifier, msg_start, len(result))\n"
     ]
    },
    {
     "data": {
      "text/plain": [
       "(0.0, 0.0)"
      ]
     },
     "execution_count": 69,
     "metadata": {},
     "output_type": "execute_result"
    }
   ],
   "source": [
    "modelTest(f2_.to_frame(), nota['FPF_TARGET'])"
   ]
  },
  {
   "cell_type": "code",
   "execution_count": 68,
   "metadata": {},
   "outputs": [
    {
     "name": "stdout",
     "output_type": "stream",
     "text": [
      "[1. 1. 1. ... 1. 1. 0.]\n",
      "0.5318791946308725\n",
      "Precision: 0.21293375394321767\n",
      "Recall: 0.6\n",
      "accuracy_score: 0.5058724832214765\n",
      "roc_auc_score:0.5419855222337124\n"
     ]
    },
    {
     "data": {
      "text/plain": [
       "(0.21293375394321767, 0.6)"
      ]
     },
     "execution_count": 68,
     "metadata": {},
     "output_type": "execute_result"
    }
   ],
   "source": [
    "modelTest(netIncome.to_frame(), nota['FPF_TARGET']) "
   ]
  },
  {
   "cell_type": "code",
   "execution_count": 67,
   "metadata": {},
   "outputs": [
    {
     "name": "stdout",
     "output_type": "stream",
     "text": [
      "[0. 0. 0. ... 0. 0. 0.]\n",
      "0.0\n",
      "Precision: 0.0\n",
      "Recall: 0.0\n",
      "accuracy_score: 0.8112416107382551\n",
      "roc_auc_score:0.5\n"
     ]
    },
    {
     "name": "stderr",
     "output_type": "stream",
     "text": [
      "/opt/conda/lib/python3.9/site-packages/sklearn/metrics/_classification.py:1248: UndefinedMetricWarning: Precision is ill-defined and being set to 0.0 due to no predicted samples. Use `zero_division` parameter to control this behavior.\n",
      "  _warn_prf(average, modifier, msg_start, len(result))\n"
     ]
    },
    {
     "data": {
      "text/plain": [
       "(0.0, 0.0)"
      ]
     },
     "execution_count": 67,
     "metadata": {},
     "output_type": "execute_result"
    }
   ],
   "source": [
    "modelTest(trans_count.to_frame(), nota['FPF_TARGET'])"
   ]
  },
  {
   "cell_type": "code",
   "execution_count": 104,
   "metadata": {},
   "outputs": [
    {
     "name": "stdout",
     "output_type": "stream",
     "text": [
      "[0. 0. 1. ... 0. 0. 0.]\n",
      "0.33808724832214765\n",
      "Precision: 0.18362282878411912\n",
      "Recall: 0.3288888888888889\n",
      "accuracy_score: 0.5973154362416108\n",
      "roc_auc_score:0.49433069056647133\n"
     ]
    },
    {
     "name": "stderr",
     "output_type": "stream",
     "text": [
      "/opt/conda/lib/python3.9/site-packages/sklearn/linear_model/_logistic.py:763: ConvergenceWarning: lbfgs failed to converge (status=1):\n",
      "STOP: TOTAL NO. of ITERATIONS REACHED LIMIT.\n",
      "\n",
      "Increase the number of iterations (max_iter) or scale the data as shown in:\n",
      "    https://scikit-learn.org/stable/modules/preprocessing.html\n",
      "Please also refer to the documentation for alternative solver options:\n",
      "    https://scikit-learn.org/stable/modules/linear_model.html#logistic-regression\n",
      "  n_iter_i = _check_optimize_result(\n"
     ]
    },
    {
     "data": {
      "text/plain": [
       "(0.18362282878411912, 0.3288888888888889)"
      ]
     },
     "execution_count": 104,
     "metadata": {},
     "output_type": "execute_result"
    }
   ],
   "source": [
    "modelTest(temp, nota['FPF_TARGET'])"
   ]
  },
  {
   "cell_type": "code",
   "execution_count": 61,
   "metadata": {},
   "outputs": [
    {
     "name": "stdout",
     "output_type": "stream",
     "text": [
      "[0. 0. 0. ... 0. 0. 0.]\n",
      "0.0\n",
      "Precision: 0.0\n",
      "Recall: 0.0\n",
      "accuracy_score: 0.8112416107382551\n",
      "roc_auc_score:0.5\n"
     ]
    },
    {
     "name": "stderr",
     "output_type": "stream",
     "text": [
      "/opt/conda/lib/python3.9/site-packages/sklearn/metrics/_classification.py:1248: UndefinedMetricWarning: Precision is ill-defined and being set to 0.0 due to no predicted samples. Use `zero_division` parameter to control this behavior.\n",
      "  _warn_prf(average, modifier, msg_start, len(result))\n"
     ]
    },
    {
     "data": {
      "text/plain": [
       "(0.0, 0.0)"
      ]
     },
     "execution_count": 61,
     "metadata": {},
     "output_type": "execute_result"
    }
   ],
   "source": [
    "modelTest(f3['amount'].to_frame(), nota['FPF_TARGET'])"
   ]
  },
  {
   "cell_type": "code",
   "execution_count": null,
   "metadata": {},
   "outputs": [],
   "source": [
    "outflows['amount'].apply(lambda x: -x) "
   ]
  },
  {
   "cell_type": "code",
   "execution_count": 65,
   "metadata": {},
   "outputs": [],
   "source": [
    "testLst = [consumption, netIncome, trans_count]"
   ]
  },
  {
   "cell_type": "code",
   "execution_count": 44,
   "metadata": {},
   "outputs": [
    {
     "data": {
      "text/plain": [
       "count      2978.000000\n",
       "mean       5718.009261\n",
       "std       27023.113121\n",
       "min      -35267.920000\n",
       "25%          43.117500\n",
       "50%         464.435000\n",
       "75%        2355.382500\n",
       "max      637198.200000\n",
       "Name: balance, dtype: float64"
      ]
     },
     "execution_count": 44,
     "metadata": {},
     "output_type": "execute_result"
    }
   ],
   "source": [
    "f2.describe()"
   ]
  },
  {
   "cell_type": "code",
   "execution_count": 46,
   "metadata": {},
   "outputs": [
    {
     "data": {
      "text/plain": [
       "(array([2.866e+03, 8.500e+01, 1.300e+01, 5.000e+00, 3.000e+00, 2.000e+00,\n",
       "        1.000e+00, 2.000e+00, 0.000e+00, 1.000e+00]),\n",
       " array([-35267.92 ,  31978.692,  99225.304, 166471.916, 233718.528,\n",
       "        300965.14 , 368211.752, 435458.364, 502704.976, 569951.588,\n",
       "        637198.2  ]),\n",
       " <BarContainer object of 10 artists>)"
      ]
     },
     "execution_count": 46,
     "metadata": {},
     "output_type": "execute_result"
    },
    {
     "data": {
      "image/png": "[encoded data removed]",
      "text/plain": [
       "<Figure size 432x288 with 1 Axes>"
      ]
     },
     "metadata": {
      "needs_background": "light"
     },
     "output_type": "display_data"
    }
   ],
   "source": [
    "plt.hist(f2, bins=10, edgecolor='black')"
   ]
  },
  {
   "cell_type": "code",
   "execution_count": null,
   "metadata": {},
   "outputs": [],
   "source": []
  },
  {
   "cell_type": "code",
   "execution_count": 7,
   "metadata": {},
   "outputs": [
    {
     "data": {
      "text/plain": [
       "0                METROPOLITAN REG PAYROLL PPD ID: XXXXXXXXXX\n",
       "1          METROPOLITAN REG VENDOR XXXXXX CCD ID: XXXXXXXXXX\n",
       "2                       ONSTAR SERVICES 888-4ONSTAR MI 08/25\n",
       "3          Zelle payment from CHRISTOPHER J LYONS XXXXXXX...\n",
       "4          METROPOLITAN REG VENDOR XXXXXX CCD ID: XXXXXXXXXX\n",
       "                                 ...                        \n",
       "1035832    POS DEPOSITUber 182 Howard St. San Francisco C...\n",
       "1035833    POS DEPOSITUber 182 Howard St. San Francisco C...\n",
       "1035834    ACH DEPOSIT RAISER XXXXTYPE: EDI PAYMNT DATA: ...\n",
       "1035835    POS DEPOSITUber 182 Howard St. San Francisco C...\n",
       "1035836    POS DEPOSITUber 182 Howard St. San Francisco C...\n",
       "Name: memo, Length: 513115, dtype: object"
      ]
     },
     "execution_count": 7,
     "metadata": {},
     "output_type": "execute_result"
    }
   ],
   "source": [
    "inflows['memo']"
   ]
  },
  {
   "cell_type": "code",
   "execution_count": 20,
   "metadata": {},
   "outputs": [
    {
     "name": "stdout",
     "output_type": "stream",
     "text": [
      "Inflow memo after preprocessing\n"
     ]
    },
    {
     "data": {
      "text/plain": [
       "0       metropolitan reg payroll ppd id\n",
       "1        metropolitan reg vendor ccd id\n",
       "2    onstar services 8884onstar mi 0825\n",
       "3     zelle payment christopher j lyons\n",
       "4        metropolitan reg vendor ccd id\n",
       "Name: memo, dtype: object"
      ]
     },
     "execution_count": 20,
     "metadata": {},
     "output_type": "execute_result"
    }
   ],
   "source": [
    "\n",
    "print(\"Inflow memo after preprocessing\")\n",
    "inflows['memo'].head()"
   ]
  },
  {
   "cell_type": "code",
   "execution_count": 15,
   "metadata": {},
   "outputs": [
    {
     "data": {
      "text/plain": [
       "1500469    2017-12-29\n",
       "1500123    2017-12-29\n",
       "1499938    2018-01-02\n",
       "1500677    2018-01-02\n",
       "1499814    2018-01-03\n",
       "              ...    \n",
       "2639606    2023-08-01\n",
       "2639014    2023-08-01\n",
       "2443520    2023-08-01\n",
       "2895180    2023-08-01\n",
       "2895221    2023-08-01\n",
       "Name: posted_date, Length: 2597488, dtype: object"
      ]
     },
     "execution_count": 15,
     "metadata": {},
     "output_type": "execute_result"
    }
   ],
   "source": [
    "#inflows.groupby(posted_date).count()\n",
    "outflows['posted_date'].sort_values()"
   ]
  },
  {
   "cell_type": "markdown",
   "metadata": {},
   "source": [
    "# EDA"
   ]
  },
  {
   "cell_type": "markdown",
   "metadata": {},
   "source": [
    "## Customer Analysis"
   ]
  },
  {
   "cell_type": "code",
   "execution_count": 23,
   "metadata": {},
   "outputs": [
    {
     "name": "stdout",
     "output_type": "stream",
     "text": [
      "Income Souce Rank by Amount\n"
     ]
    },
    {
     "data": {
      "text/html": [
       "<div>\n",
       "<style scoped>\n",
       "    .dataframe tbody tr th:only-of-type {\n",
       "        vertical-align: middle;\n",
       "    }\n",
       "\n",
       "    .dataframe tbody tr th {\n",
       "        vertical-align: top;\n",
       "    }\n",
       "\n",
       "    .dataframe thead th {\n",
       "        text-align: right;\n",
       "    }\n",
       "</style>\n",
       "<table border=\"1\" class=\"dataframe\">\n",
       "  <thead>\n",
       "    <tr style=\"text-align: right;\">\n",
       "      <th></th>\n",
       "      <th>amount</th>\n",
       "    </tr>\n",
       "    <tr>\n",
       "      <th>category</th>\n",
       "      <th></th>\n",
       "    </tr>\n",
       "  </thead>\n",
       "  <tbody>\n",
       "    <tr>\n",
       "      <th>EXTERNAL_TRANSFER</th>\n",
       "      <td>81586232.14</td>\n",
       "    </tr>\n",
       "    <tr>\n",
       "      <th>DEPOSIT</th>\n",
       "      <td>66602343.60</td>\n",
       "    </tr>\n",
       "    <tr>\n",
       "      <th>PAYCHECK</th>\n",
       "      <td>54018520.29</td>\n",
       "    </tr>\n",
       "    <tr>\n",
       "      <th>MISCELLANEOUS</th>\n",
       "      <td>52594312.59</td>\n",
       "    </tr>\n",
       "    <tr>\n",
       "      <th>SELF_TRANSFER</th>\n",
       "      <td>48301522.92</td>\n",
       "    </tr>\n",
       "    <tr>\n",
       "      <th>PAYCHECK_PLACEHOLDER</th>\n",
       "      <td>35706161.73</td>\n",
       "    </tr>\n",
       "    <tr>\n",
       "      <th>OTHER_BENEFITS</th>\n",
       "      <td>12175837.46</td>\n",
       "    </tr>\n",
       "    <tr>\n",
       "      <th>INVESTMENT_INCOME</th>\n",
       "      <td>6887278.35</td>\n",
       "    </tr>\n",
       "    <tr>\n",
       "      <th>TAX</th>\n",
       "      <td>5619601.78</td>\n",
       "    </tr>\n",
       "    <tr>\n",
       "      <th>REFUND</th>\n",
       "      <td>5406440.27</td>\n",
       "    </tr>\n",
       "    <tr>\n",
       "      <th>LOAN</th>\n",
       "      <td>4231710.73</td>\n",
       "    </tr>\n",
       "    <tr>\n",
       "      <th>SMALL_DOLLAR_ADVANCE</th>\n",
       "      <td>1906595.47</td>\n",
       "    </tr>\n",
       "    <tr>\n",
       "      <th>UNEMPLOYMENT_BENEFITS</th>\n",
       "      <td>1610419.79</td>\n",
       "    </tr>\n",
       "    <tr>\n",
       "      <th>INSURANCE</th>\n",
       "      <td>338514.02</td>\n",
       "    </tr>\n",
       "  </tbody>\n",
       "</table>\n",
       "</div>"
      ],
      "text/plain": [
       "                            amount\n",
       "category                          \n",
       "EXTERNAL_TRANSFER      81586232.14\n",
       "DEPOSIT                66602343.60\n",
       "PAYCHECK               54018520.29\n",
       "MISCELLANEOUS          52594312.59\n",
       "SELF_TRANSFER          48301522.92\n",
       "PAYCHECK_PLACEHOLDER   35706161.73\n",
       "OTHER_BENEFITS         12175837.46\n",
       "INVESTMENT_INCOME       6887278.35\n",
       "TAX                     5619601.78\n",
       "REFUND                  5406440.27\n",
       "LOAN                    4231710.73\n",
       "SMALL_DOLLAR_ADVANCE    1906595.47\n",
       "UNEMPLOYMENT_BENEFITS   1610419.79\n",
       "INSURANCE                338514.02"
      ]
     },
     "execution_count": 23,
     "metadata": {},
     "output_type": "execute_result"
    }
   ],
   "source": [
    "print('Income Souce Rank by Amount')\n",
    "inflows.groupby('category')['amount'].sum().sort_values(ascending=False).to_frame()"
   ]
  },
  {
   "cell_type": "code",
   "execution_count": 22,
   "metadata": {},
   "outputs": [
    {
     "name": "stdout",
     "output_type": "stream",
     "text": [
      "Income Souce Rank by Amount\n"
     ]
    },
    {
     "data": {
      "text/plain": [
       "<AxesSubplot:ylabel='amount'>"
      ]
     },
     "execution_count": 22,
     "metadata": {},
     "output_type": "execute_result"
    },
    {
     "data": {
      "image/png": "[encoded data removed]",
      "text/plain": [
       "<Figure size 864x864 with 1 Axes>"
      ]
     },
     "metadata": {},
     "output_type": "display_data"
    }
   ],
   "source": [
    "print('Income Souce Rank by Amount')\n",
    "data = inflows.groupby('category')['amount'].sum()\n",
    "\n",
    "data.plot.pie(autopct='%1.1f%%', figsize=(12, 12))"
   ]
  },
  {
   "cell_type": "code",
   "execution_count": 20,
   "metadata": {},
   "outputs": [
    {
     "name": "stdout",
     "output_type": "stream",
     "text": [
      "Customer Income Statsitics \n"
     ]
    },
    {
     "data": {
      "text/plain": [
       "prism_consumer_id\n",
       "0       110312.43\n",
       "2       349639.03\n",
       "4       462557.90\n",
       "7       250214.09\n",
       "9       215342.01\n",
       "          ...    \n",
       "5930    127177.11\n",
       "5935     13640.13\n",
       "5939     33882.65\n",
       "5940     67452.46\n",
       "5941     58633.91\n",
       "Name: amount, Length: 2974, dtype: float64"
      ]
     },
     "execution_count": 20,
     "metadata": {},
     "output_type": "execute_result"
    }
   ],
   "source": [
    "print('Customer Income Statsitics ')\n",
    "income = inflows.groupby('prism_consumer_id')['amount'].sum()\n",
    "income"
   ]
  },
  {
   "cell_type": "code",
   "execution_count": 21,
   "metadata": {},
   "outputs": [
    {
     "data": {
      "text/plain": [
       "count    2.974000e+03\n",
       "mean     1.267604e+05\n",
       "std      3.005366e+05\n",
       "min      2.400000e-01\n",
       "25%      2.589696e+04\n",
       "50%      5.684713e+04\n",
       "75%      1.353733e+05\n",
       "max      1.032516e+07\n",
       "Name: amount, dtype: float64"
      ]
     },
     "execution_count": 21,
     "metadata": {},
     "output_type": "execute_result"
    }
   ],
   "source": [
    "income.describe()"
   ]
  },
  {
   "cell_type": "code",
   "execution_count": 27,
   "metadata": {},
   "outputs": [
    {
     "name": "stdout",
     "output_type": "stream",
     "text": [
      "count of transactions per consumer \n"
     ]
    },
    {
     "data": {
      "text/html": [
       "<div>\n",
       "<style scoped>\n",
       "    .dataframe tbody tr th:only-of-type {\n",
       "        vertical-align: middle;\n",
       "    }\n",
       "\n",
       "    .dataframe tbody tr th {\n",
       "        vertical-align: top;\n",
       "    }\n",
       "\n",
       "    .dataframe thead th {\n",
       "        text-align: right;\n",
       "    }\n",
       "</style>\n",
       "<table border=\"1\" class=\"dataframe\">\n",
       "  <thead>\n",
       "    <tr style=\"text-align: right;\">\n",
       "      <th></th>\n",
       "      <th>transaction</th>\n",
       "    </tr>\n",
       "  </thead>\n",
       "  <tbody>\n",
       "    <tr>\n",
       "      <th>count</th>\n",
       "      <td>2974.000000</td>\n",
       "    </tr>\n",
       "    <tr>\n",
       "      <th>mean</th>\n",
       "      <td>172.533625</td>\n",
       "    </tr>\n",
       "    <tr>\n",
       "      <th>std</th>\n",
       "      <td>148.452108</td>\n",
       "    </tr>\n",
       "    <tr>\n",
       "      <th>min</th>\n",
       "      <td>1.000000</td>\n",
       "    </tr>\n",
       "    <tr>\n",
       "      <th>25%</th>\n",
       "      <td>78.000000</td>\n",
       "    </tr>\n",
       "    <tr>\n",
       "      <th>50%</th>\n",
       "      <td>134.000000</td>\n",
       "    </tr>\n",
       "    <tr>\n",
       "      <th>75%</th>\n",
       "      <td>219.000000</td>\n",
       "    </tr>\n",
       "    <tr>\n",
       "      <th>max</th>\n",
       "      <td>1765.000000</td>\n",
       "    </tr>\n",
       "  </tbody>\n",
       "</table>\n",
       "</div>"
      ],
      "text/plain": [
       "       transaction\n",
       "count  2974.000000\n",
       "mean    172.533625\n",
       "std     148.452108\n",
       "min       1.000000\n",
       "25%      78.000000\n",
       "50%     134.000000\n",
       "75%     219.000000\n",
       "max    1765.000000"
      ]
     },
     "execution_count": 27,
     "metadata": {},
     "output_type": "execute_result"
    }
   ],
   "source": [
    "print('count of transactions per consumer ')\n",
    "trans_count = inflows.groupby('prism_consumer_id')['prism_account_id'].count()\n",
    "df = trans_count.describe().to_frame()\n",
    "df.rename(columns = {'prism_account_id':'transaction'}, inplace = True) \n",
    "df"
   ]
  },
  {
   "cell_type": "code",
   "execution_count": 49,
   "metadata": {},
   "outputs": [
    {
     "data": {
      "image/png": "[encoded data removed]",
      "text/plain": [
       "<Figure size 432x288 with 1 Axes>"
      ]
     },
     "metadata": {
      "needs_background": "light"
     },
     "output_type": "display_data"
    }
   ],
   "source": [
    "plt.hist(trans_count, bins=10, edgecolor='black')\n",
    "plt.xlabel('Number of Transactions')\n",
    "plt.ylabel('Frequency')\n",
    "plt.title('Distribution of Transactions Per Consumer')\n",
    "plt.show()"
   ]
  },
  {
   "cell_type": "code",
   "execution_count": 28,
   "metadata": {},
   "outputs": [
    {
     "data": {
      "text/html": [
       "<div>\n",
       "<style scoped>\n",
       "    .dataframe tbody tr th:only-of-type {\n",
       "        vertical-align: middle;\n",
       "    }\n",
       "\n",
       "    .dataframe tbody tr th {\n",
       "        vertical-align: top;\n",
       "    }\n",
       "\n",
       "    .dataframe thead th {\n",
       "        text-align: right;\n",
       "    }\n",
       "</style>\n",
       "<table border=\"1\" class=\"dataframe\">\n",
       "  <thead>\n",
       "    <tr style=\"text-align: right;\">\n",
       "      <th></th>\n",
       "      <th>amount</th>\n",
       "    </tr>\n",
       "  </thead>\n",
       "  <tbody>\n",
       "    <tr>\n",
       "      <th>count</th>\n",
       "      <td>2.968000e+03</td>\n",
       "    </tr>\n",
       "    <tr>\n",
       "      <th>mean</th>\n",
       "      <td>1.270095e+05</td>\n",
       "    </tr>\n",
       "    <tr>\n",
       "      <th>std</th>\n",
       "      <td>2.966008e+05</td>\n",
       "    </tr>\n",
       "    <tr>\n",
       "      <th>min</th>\n",
       "      <td>2.400000e-01</td>\n",
       "    </tr>\n",
       "    <tr>\n",
       "      <th>25%</th>\n",
       "      <td>2.617188e+04</td>\n",
       "    </tr>\n",
       "    <tr>\n",
       "      <th>50%</th>\n",
       "      <td>5.720956e+04</td>\n",
       "    </tr>\n",
       "    <tr>\n",
       "      <th>75%</th>\n",
       "      <td>1.371515e+05</td>\n",
       "    </tr>\n",
       "    <tr>\n",
       "      <th>max</th>\n",
       "      <td>1.015039e+07</td>\n",
       "    </tr>\n",
       "  </tbody>\n",
       "</table>\n",
       "</div>"
      ],
      "text/plain": [
       "             amount\n",
       "count  2.968000e+03\n",
       "mean   1.270095e+05\n",
       "std    2.966008e+05\n",
       "min    2.400000e-01\n",
       "25%    2.617188e+04\n",
       "50%    5.720956e+04\n",
       "75%    1.371515e+05\n",
       "max    1.015039e+07"
      ]
     },
     "execution_count": 28,
     "metadata": {},
     "output_type": "execute_result"
    }
   ],
   "source": [
    "#customer spending statsitics \n",
    "consumption = outflows.groupby('prism_consumer_id')['amount'].sum()\n",
    "consumption.describe().to_frame()"
   ]
  },
  {
   "cell_type": "code",
   "execution_count": 51,
   "metadata": {},
   "outputs": [
    {
     "name": "stderr",
     "output_type": "stream",
     "text": [
      "/opt/conda/lib/python3.9/site-packages/seaborn/_decorators.py:36: FutureWarning: Pass the following variable as a keyword arg: x. From version 0.12, the only valid positional argument will be `data`, and passing other arguments without an explicit keyword will result in an error or misinterpretation.\n",
      "  warnings.warn(\n"
     ]
    },
    {
     "data": {
      "image/png": "[encoded data removed]",
      "text/plain": [
       "<Figure size 432x288 with 1 Axes>"
      ]
     },
     "metadata": {
      "needs_background": "light"
     },
     "output_type": "display_data"
    }
   ],
   "source": [
    "sns.boxplot(consumption)\n",
    "plt.xlabel('Spend per Consumer')\n",
    "plt.title('Box Plot of Spend Per Consumer')\n",
    "plt.show()"
   ]
  },
  {
   "cell_type": "code",
   "execution_count": 19,
   "metadata": {},
   "outputs": [],
   "source": [
    "out = outflows.copy()\n",
    "out['amount'] = outflows['amount'].apply(lambda x: -x)\n"
   ]
  },
  {
   "cell_type": "code",
   "execution_count": 20,
   "metadata": {},
   "outputs": [
    {
     "data": {
      "text/html": [
       "<div>\n",
       "<style scoped>\n",
       "    .dataframe tbody tr th:only-of-type {\n",
       "        vertical-align: middle;\n",
       "    }\n",
       "\n",
       "    .dataframe tbody tr th {\n",
       "        vertical-align: top;\n",
       "    }\n",
       "\n",
       "    .dataframe thead th {\n",
       "        text-align: right;\n",
       "    }\n",
       "</style>\n",
       "<table border=\"1\" class=\"dataframe\">\n",
       "  <thead>\n",
       "    <tr style=\"text-align: right;\">\n",
       "      <th></th>\n",
       "      <th>prism_consumer_id</th>\n",
       "      <th>prism_account_id</th>\n",
       "      <th>memo_clean</th>\n",
       "      <th>amount</th>\n",
       "      <th>posted_date</th>\n",
       "      <th>category_description</th>\n",
       "    </tr>\n",
       "  </thead>\n",
       "  <tbody>\n",
       "    <tr>\n",
       "      <th>62</th>\n",
       "      <td>0</td>\n",
       "      <td>acc_0</td>\n",
       "      <td>Online Transfer to CHK ...XXXX transaction#: X...</td>\n",
       "      <td>-280.00</td>\n",
       "      <td>2023-01-06</td>\n",
       "      <td>SELF_TRANSFER</td>\n",
       "    </tr>\n",
       "    <tr>\n",
       "      <th>63</th>\n",
       "      <td>0</td>\n",
       "      <td>acc_0</td>\n",
       "      <td>PAYPAL INST XFER RAINBOW WEB ID: PAYPALSI77</td>\n",
       "      <td>-47.83</td>\n",
       "      <td>2022-07-21</td>\n",
       "      <td>EXTERNAL_TRANSFER</td>\n",
       "    </tr>\n",
       "    <tr>\n",
       "      <th>64</th>\n",
       "      <td>0</td>\n",
       "      <td>acc_0</td>\n",
       "      <td>Online Transfer to CHK ...XXXX transaction#: X...</td>\n",
       "      <td>-280.00</td>\n",
       "      <td>2022-12-12</td>\n",
       "      <td>SELF_TRANSFER</td>\n",
       "    </tr>\n",
       "    <tr>\n",
       "      <th>65</th>\n",
       "      <td>0</td>\n",
       "      <td>acc_0</td>\n",
       "      <td>Online Transfer to CHK ...XXXX transaction#: X...</td>\n",
       "      <td>-300.00</td>\n",
       "      <td>2022-12-09</td>\n",
       "      <td>SELF_TRANSFER</td>\n",
       "    </tr>\n",
       "    <tr>\n",
       "      <th>66</th>\n",
       "      <td>0</td>\n",
       "      <td>acc_0</td>\n",
       "      <td>Online Transfer to CHK ...XXXX transaction#: X...</td>\n",
       "      <td>-500.00</td>\n",
       "      <td>2023-02-17</td>\n",
       "      <td>SELF_TRANSFER</td>\n",
       "    </tr>\n",
       "    <tr>\n",
       "      <th>...</th>\n",
       "      <td>...</td>\n",
       "      <td>...</td>\n",
       "      <td>...</td>\n",
       "      <td>...</td>\n",
       "      <td>...</td>\n",
       "      <td>...</td>\n",
       "    </tr>\n",
       "    <tr>\n",
       "      <th>3084767</th>\n",
       "      <td>3997</td>\n",
       "      <td>acc_7534</td>\n",
       "      <td>Cenex F U Oil</td>\n",
       "      <td>-16.93</td>\n",
       "      <td>2023-06-07</td>\n",
       "      <td>AUTOMOTIVE</td>\n",
       "    </tr>\n",
       "    <tr>\n",
       "      <th>3084768</th>\n",
       "      <td>3997</td>\n",
       "      <td>acc_7534</td>\n",
       "      <td>Cenex F U Oil</td>\n",
       "      <td>-20.72</td>\n",
       "      <td>2023-06-14</td>\n",
       "      <td>AUTOMOTIVE</td>\n",
       "    </tr>\n",
       "    <tr>\n",
       "      <th>3084769</th>\n",
       "      <td>3997</td>\n",
       "      <td>acc_7534</td>\n",
       "      <td>Reserveit Park/Shower</td>\n",
       "      <td>-25.00</td>\n",
       "      <td>2023-04-08</td>\n",
       "      <td>HOME_IMPROVEMENT</td>\n",
       "    </tr>\n",
       "    <tr>\n",
       "      <th>3084770</th>\n",
       "      <td>3997</td>\n",
       "      <td>acc_7534</td>\n",
       "      <td>Metapay*Cathy Szydlo</td>\n",
       "      <td>-220.00</td>\n",
       "      <td>2023-04-11</td>\n",
       "      <td>EXTERNAL_TRANSFER</td>\n",
       "    </tr>\n",
       "    <tr>\n",
       "      <th>3084771</th>\n",
       "      <td>3997</td>\n",
       "      <td>acc_7534</td>\n",
       "      <td>301 Elm Enterprises, L</td>\n",
       "      <td>-19.22</td>\n",
       "      <td>2023-01-30</td>\n",
       "      <td>TRAVEL</td>\n",
       "    </tr>\n",
       "  </tbody>\n",
       "</table>\n",
       "<p>2576829 rows × 6 columns</p>\n",
       "</div>"
      ],
      "text/plain": [
       "         prism_consumer_id prism_account_id  \\\n",
       "62                       0            acc_0   \n",
       "63                       0            acc_0   \n",
       "64                       0            acc_0   \n",
       "65                       0            acc_0   \n",
       "66                       0            acc_0   \n",
       "...                    ...              ...   \n",
       "3084767               3997         acc_7534   \n",
       "3084768               3997         acc_7534   \n",
       "3084769               3997         acc_7534   \n",
       "3084770               3997         acc_7534   \n",
       "3084771               3997         acc_7534   \n",
       "\n",
       "                                                memo_clean  amount  \\\n",
       "62       Online Transfer to CHK ...XXXX transaction#: X... -280.00   \n",
       "63             PAYPAL INST XFER RAINBOW WEB ID: PAYPALSI77  -47.83   \n",
       "64       Online Transfer to CHK ...XXXX transaction#: X... -280.00   \n",
       "65       Online Transfer to CHK ...XXXX transaction#: X... -300.00   \n",
       "66       Online Transfer to CHK ...XXXX transaction#: X... -500.00   \n",
       "...                                                    ...     ...   \n",
       "3084767                                      Cenex F U Oil  -16.93   \n",
       "3084768                                      Cenex F U Oil  -20.72   \n",
       "3084769                              Reserveit Park/Shower  -25.00   \n",
       "3084770                               Metapay*Cathy Szydlo -220.00   \n",
       "3084771                             301 Elm Enterprises, L  -19.22   \n",
       "\n",
       "        posted_date category_description  \n",
       "62       2023-01-06        SELF_TRANSFER  \n",
       "63       2022-07-21    EXTERNAL_TRANSFER  \n",
       "64       2022-12-12        SELF_TRANSFER  \n",
       "65       2022-12-09        SELF_TRANSFER  \n",
       "66       2023-02-17        SELF_TRANSFER  \n",
       "...             ...                  ...  \n",
       "3084767  2023-06-07           AUTOMOTIVE  \n",
       "3084768  2023-06-14           AUTOMOTIVE  \n",
       "3084769  2023-04-08     HOME_IMPROVEMENT  \n",
       "3084770  2023-04-11    EXTERNAL_TRANSFER  \n",
       "3084771  2023-01-30               TRAVEL  \n",
       "\n",
       "[2576829 rows x 6 columns]"
      ]
     },
     "execution_count": 20,
     "metadata": {},
     "output_type": "execute_result"
    }
   ],
   "source": [
    "out"
   ]
  },
  {
   "cell_type": "code",
   "execution_count": 21,
   "metadata": {},
   "outputs": [],
   "source": [
    "total = inflows._append(out, ignore_index=True)"
   ]
  },
  {
   "cell_type": "code",
   "execution_count": 22,
   "metadata": {},
   "outputs": [
    {
     "name": "stdout",
     "output_type": "stream",
     "text": [
      "Customer Net Income\n"
     ]
    },
    {
     "data": {
      "text/plain": [
       "prism_consumer_id\n",
       "949    -1492984.18\n",
       "1896    -642879.04\n",
       "831     -364780.55\n",
       "824     -361927.09\n",
       "25      -329442.81\n",
       "           ...    \n",
       "1720     239537.81\n",
       "1890     240190.83\n",
       "555      311125.03\n",
       "456      404781.67\n",
       "197      575143.92\n",
       "Name: amount, Length: 2978, dtype: float64"
      ]
     },
     "execution_count": 22,
     "metadata": {},
     "output_type": "execute_result"
    }
   ],
   "source": [
    "print('Customer Net Income')\n",
    "netIncome = total.groupby('prism_consumer_id')['amount'].sum().sort_values()\n",
    "netIncome"
   ]
  },
  {
   "cell_type": "code",
   "execution_count": 35,
   "metadata": {},
   "outputs": [
    {
     "name": "stdout",
     "output_type": "stream",
     "text": [
      "Net Income Stats\n"
     ]
    },
    {
     "data": {
      "text/html": [
       "<div>\n",
       "<style scoped>\n",
       "    .dataframe tbody tr th:only-of-type {\n",
       "        vertical-align: middle;\n",
       "    }\n",
       "\n",
       "    .dataframe tbody tr th {\n",
       "        vertical-align: top;\n",
       "    }\n",
       "\n",
       "    .dataframe thead th {\n",
       "        text-align: right;\n",
       "    }\n",
       "</style>\n",
       "<table border=\"1\" class=\"dataframe\">\n",
       "  <thead>\n",
       "    <tr style=\"text-align: right;\">\n",
       "      <th></th>\n",
       "      <th>amount</th>\n",
       "    </tr>\n",
       "  </thead>\n",
       "  <tbody>\n",
       "    <tr>\n",
       "      <th>count</th>\n",
       "      <td>2.978000e+03</td>\n",
       "    </tr>\n",
       "    <tr>\n",
       "      <th>mean</th>\n",
       "      <td>-8.078926e+02</td>\n",
       "    </tr>\n",
       "    <tr>\n",
       "      <th>std</th>\n",
       "      <td>3.923504e+04</td>\n",
       "    </tr>\n",
       "    <tr>\n",
       "      <th>min</th>\n",
       "      <td>-1.492984e+06</td>\n",
       "    </tr>\n",
       "    <tr>\n",
       "      <th>25%</th>\n",
       "      <td>-6.191825e+02</td>\n",
       "    </tr>\n",
       "    <tr>\n",
       "      <th>50%</th>\n",
       "      <td>3.064500e+01</td>\n",
       "    </tr>\n",
       "    <tr>\n",
       "      <th>75%</th>\n",
       "      <td>7.476775e+02</td>\n",
       "    </tr>\n",
       "    <tr>\n",
       "      <th>max</th>\n",
       "      <td>5.751439e+05</td>\n",
       "    </tr>\n",
       "  </tbody>\n",
       "</table>\n",
       "</div>"
      ],
      "text/plain": [
       "             amount\n",
       "count  2.978000e+03\n",
       "mean  -8.078926e+02\n",
       "std    3.923504e+04\n",
       "min   -1.492984e+06\n",
       "25%   -6.191825e+02\n",
       "50%    3.064500e+01\n",
       "75%    7.476775e+02\n",
       "max    5.751439e+05"
      ]
     },
     "execution_count": 35,
     "metadata": {},
     "output_type": "execute_result"
    }
   ],
   "source": [
    "print('Net Income Stats')\n",
    "netIncome.describe().to_frame()"
   ]
  },
  {
   "cell_type": "markdown",
   "metadata": {
    "created_in_deepnote_cell": true,
    "deepnote_cell_type": "markdown"
   },
   "source": [
    "<a style='text-decoration:none;line-height:16px;display:flex;color:#5B5B62;padding:10px;justify-content:end;' href='https://deepnote.com?utm_source=created-in-deepnote-cell&projectId=4fd5165d-30f2-4024-858c-b9c44fc2581b' target=\"_blank\">\n",
    "<img alt='Created in deepnote.com' style='display:inline;max-height:16px;margin:0px;margin-right:7.5px;' src='data:image/svg+xml;base64,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' > </img>\n",
    "Created in <span style='font-weight:600;margin-left:4px;'>Deepnote</span></a>"
   ]
  }
 ],
 "metadata": {
  "deepnote": {},
  "deepnote_execution_queue": [],
  "deepnote_notebook_id": "ef9b9e161a8d4603834082117f396607",
  "kernelspec": {
   "display_name": "Python 3 (ipykernel)",
   "language": "python",
   "name": "python3"
  },
  "language_info": {
   "codemirror_mode": {
    "name": "ipython",
    "version": 3
   },
   "file_extension": ".py",
   "mimetype": "text/x-python",
   "name": "python",
   "nbconvert_exporter": "python",
   "pygments_lexer": "ipython3",
   "version": "3.9.5"
  }
 },
 "nbformat": 4,
 "nbformat_minor": 1
}
